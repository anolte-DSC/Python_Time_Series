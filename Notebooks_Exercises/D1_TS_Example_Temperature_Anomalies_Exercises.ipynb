{
 "cells": [
  {
   "cell_type": "markdown",
   "id": "34ee8e7a-0817-48d2-b824-1e839ca9cfdf",
   "metadata": {},
   "source": [
    "<img src=\"../Images/DSC_Logo.png\" style=\"width: 400px;\">"
   ]
  },
  {
   "cell_type": "markdown",
   "id": "937960b0-ae1e-4278-b8be-49c93b7305aa",
   "metadata": {},
   "source": [
    "# Temperature Anomalies"
   ]
  },
  {
   "cell_type": "markdown",
   "id": "05812448-d6b8-41a1-9733-a8420687796e",
   "metadata": {},
   "source": [
    "![sky](../Images/temperature.jpg)\n",
    "\n",
    "*Image modified from Gerd Altmann, Pixabay*\n",
    "\n",
    "The objective in this notebook is to analyze and predict a dataset of global temperature anomalies from 1850 to 2024 against the 1901-2000 average with monthly frequency. The data is sourced from the NOAA National Centers for Environmental Information.\n",
    "\n",
    "**Original dataset:** NOAA National Centers for Environmental information: Climate at a Glance: Global Time Series [Data set]. https://www.ncei.noaa.gov/access/monitoring/climate-at-a-glance/global/time-series, retrieved on August 23, 2024."
   ]
  },
  {
   "cell_type": "markdown",
   "id": "5875cd35-1bc2-489a-8863-2e2f75e4ef5b",
   "metadata": {},
   "source": [
    "## **Exercise 1: Time Series Basics**"
   ]
  },
  {
   "cell_type": "markdown",
   "id": "2431f314-cb0c-447c-b030-9fdc2ca68475",
   "metadata": {},
   "source": [
    "## 1. Load, Prepare and Plot Time Series Data"
   ]
  },
  {
   "cell_type": "markdown",
   "id": "f344816a-999b-400d-809e-0c6d2daef5e0",
   "metadata": {},
   "source": [
    "**Exercise:** Import the dataset of NOAA global temperature anomalies in monthly resolution. The path of the dataset is '../Datasets/NOAA_time_series_monthly.csv'. Print the first rows of the dataset to see it's structure."
   ]
  },
  {
   "cell_type": "code",
   "execution_count": null,
   "id": "83f8acca-4c2f-4e54-b1bc-9a76203753ed",
   "metadata": {},
   "outputs": [],
   "source": []
  },
  {
   "cell_type": "markdown",
   "id": "b1bcd195-62d6-42c7-bd51-c28e52808466",
   "metadata": {},
   "source": [
    "**Exercise:** convert 'Date' into a `datetime` object, set the date column as index for easy analysis and and check the structure of the dataset after conversion."
   ]
  },
  {
   "cell_type": "code",
   "execution_count": null,
   "id": "1c96bad4-e018-48b6-bd76-22396e38fa75",
   "metadata": {},
   "outputs": [],
   "source": []
  },
  {
   "cell_type": "markdown",
   "id": "4ecb506e-8f8d-4094-853e-ff5295d66f98",
   "metadata": {},
   "source": [
    "**Exercise:** Print summary statistics of the time series."
   ]
  },
  {
   "cell_type": "code",
   "execution_count": null,
   "id": "7cbcc316-7e09-4057-b66b-4d7bc7d69338",
   "metadata": {},
   "outputs": [],
   "source": []
  },
  {
   "cell_type": "markdown",
   "id": "65884dbc-b020-4b5d-9c4b-5e8be0a88187",
   "metadata": {},
   "source": [
    "**Exercise:** Plot the full time series and a subset of the time series covering only a few years to examine short-term patterns and variations in greater detail. Additionally, create bar plots to display the median temperature anomalies for each month over both the full time series and the time series subset, highlighting typical seasonal effects and recurring patterns."
   ]
  },
  {
   "cell_type": "code",
   "execution_count": null,
   "id": "c7a2aaa2-52e1-4d02-b254-bda877c6ab7f",
   "metadata": {},
   "outputs": [],
   "source": []
  },
  {
   "cell_type": "markdown",
   "id": "f615dbe8-f166-4dd0-a6b1-595b067f8f5b",
   "metadata": {},
   "source": [
    "## **Exercise 2: Exploration of Time Series Features**"
   ]
  },
  {
   "cell_type": "markdown",
   "id": "516902f1-baa6-4934-80f1-f04d33c9b739",
   "metadata": {},
   "source": [
    "## 2. Time Series Components"
   ]
  },
  {
   "cell_type": "markdown",
   "id": "7715e8af-5024-4562-af5b-2458e6d5a4f0",
   "metadata": {},
   "source": [
    "**Exercise:** Decompose the time series into the components trend, seasonal, and residual using an additive model from the `statsmodels` library. Conduct the decomposition also for the subset of data that you plotted in Exercise 1. Are the patterns as you would expect? Would you expect stationarity?"
   ]
  },
  {
   "cell_type": "code",
   "execution_count": null,
   "id": "79320fe1-48e7-44b5-8fff-e6d1632bb28b",
   "metadata": {},
   "outputs": [],
   "source": []
  },
  {
   "cell_type": "markdown",
   "id": "3e88e2af-f90c-4d68-b9c9-3d88b63a936d",
   "metadata": {},
   "source": [
    "**Exercise:** Does the decomposition effectively capture the underlying structure of the time series by accurately separating the trend and seasonal components from random fluctuations? Use the `statsmodels` library to check the residuals for stationarity, test for normality, and assess their overall white noise behavior."
   ]
  },
  {
   "cell_type": "code",
   "execution_count": null,
   "id": "d4e35c30-41dc-4cb3-a533-e9e545b7d708",
   "metadata": {},
   "outputs": [],
   "source": []
  },
  {
   "cell_type": "markdown",
   "id": "634a4be4-ab57-4c5c-acea-001b2132282c",
   "metadata": {},
   "source": [
    "## **Exercise 3: Time Series Model ARIMA**"
   ]
  },
  {
   "cell_type": "markdown",
   "id": "c94321e0-d975-47f3-a310-9cdcd374f2bd",
   "metadata": {},
   "source": [
    "## 3. Stationarity Test and Differencing"
   ]
  },
  {
   "cell_type": "markdown",
   "id": "fd5cf085-be0a-4ca4-b666-10a880719d9c",
   "metadata": {},
   "source": [
    "**Exercise:** Calculate the `kpss` statistics to test for stationarity."
   ]
  },
  {
   "cell_type": "code",
   "execution_count": null,
   "id": "9fb55033-1ed7-4071-82b5-0d77edb0057d",
   "metadata": {},
   "outputs": [],
   "source": []
  },
  {
   "cell_type": "markdown",
   "id": "262d936a-cee6-474d-a053-1b6aadfcd1bd",
   "metadata": {},
   "source": [
    "**Exercise:** The small p-value also means that the global temperature anomalies time series is likely non-stationary. Applying stationary time series models requires differencing the time series first. Conduct differencing the time series with a lag of 1 to remove trends and stabilize the mean of a time series by subtracting each observation from the previous one. Plot the resulting time series."
   ]
  },
  {
   "cell_type": "code",
   "execution_count": null,
   "id": "c6ab9723-0cbe-43ac-8700-6522a7a83280",
   "metadata": {},
   "outputs": [],
   "source": []
  },
  {
   "cell_type": "markdown",
   "id": "5a4035f4-c97a-42e5-bd2f-d2f4b431112d",
   "metadata": {},
   "source": [
    "**Exercise:** Plot the ACF and PACF plots of the differenced time series and calculate the KPSS statistics to check again for stationarity."
   ]
  },
  {
   "cell_type": "code",
   "execution_count": null,
   "id": "a143d895-a09e-4ec8-b96e-d6dade4c8e0e",
   "metadata": {
    "scrolled": true
   },
   "outputs": [],
   "source": []
  },
  {
   "cell_type": "markdown",
   "id": "dc90564f-c53a-4fed-a1df-4d60943fc56d",
   "metadata": {},
   "source": [
    "## 4. ARIMA"
   ]
  },
  {
   "cell_type": "code",
   "execution_count": null,
   "id": "257a230a",
   "metadata": {},
   "outputs": [],
   "source": [
    "# Set the frequency of the index to avoid a warning when fitting the model\n",
    "global_temp_diff.index = global_temp_diff.index.to_period('M').to_timestamp() "
   ]
  },
  {
   "cell_type": "markdown",
   "id": "60d62377-d2e7-4599-9756-0adbd7e269af",
   "metadata": {},
   "source": [
    "**Exercise:** Use the `tsa.arma_order_select_ic` function from the `statsmodels` library to identify the best ARIMA model for the time series. Explore a range of autoregressive (p) and moving average (q) parameters. Analyze statistical metrics to determine the best parameters for the data.\n",
    "\n",
    "Note: Running the loop to find the best model with the temperature anomalies time series can take a considerable amount of time because of it's length. Therefore choose a rather small range of parameters (e.g. 0 to 3)."
   ]
  },
  {
   "cell_type": "code",
   "execution_count": null,
   "id": "0b7baaec-1127-4105-812a-1a692ca93c77",
   "metadata": {
    "scrolled": true
   },
   "outputs": [],
   "source": []
  },
  {
   "cell_type": "markdown",
   "id": "3f78ebf7-43b1-451a-8e4a-2f96271ca299",
   "metadata": {},
   "source": [
    "**Exercise:** Based on your previous model selection process with the differenced time series, specify the optimal model parameters in the `ARIMA` function to fit the model on the original data with built-in differencing. Print the model summary."
   ]
  },
  {
   "cell_type": "code",
   "execution_count": null,
   "id": "d00fe1c6-7fea-4ea9-8d4d-e01f465a47c1",
   "metadata": {},
   "outputs": [],
   "source": []
  },
  {
   "cell_type": "code",
   "execution_count": null,
   "id": "adba29f5-a418-483a-92af-309088a53763",
   "metadata": {},
   "outputs": [],
   "source": []
  },
  {
   "cell_type": "markdown",
   "id": "29d278ea-418e-4e42-826f-e473359ab597",
   "metadata": {},
   "source": [
    "**Exercise:** Analyze whether the ARIMA model fits the data well."
   ]
  },
  {
   "cell_type": "code",
   "execution_count": null,
   "id": "095b7e52-69f1-4d0b-b5f4-792ab3c74e56",
   "metadata": {},
   "outputs": [],
   "source": []
  },
  {
   "cell_type": "markdown",
   "id": "ab9373e7-cd0a-4b7e-918c-d2dbde2b7c61",
   "metadata": {},
   "source": [
    "While the lack of significant autocorrelation at most lags and a scattered lag plot are positive signs, the normality of residuals is rejected. Let's see how the prediction would look like..."
   ]
  },
  {
   "cell_type": "markdown",
   "id": "0f0b18d5-daa2-4acf-9fa9-4aef22866ec2",
   "metadata": {},
   "source": [
    "**Exercise:** Plot the fitted values and the out-sample foreast for 5 years."
   ]
  },
  {
   "cell_type": "code",
   "execution_count": null,
   "id": "3647ccb0-d202-4987-b69b-bfa442033007",
   "metadata": {},
   "outputs": [],
   "source": []
  },
  {
   "cell_type": "markdown",
   "id": "78f39343-ac34-460b-ac1b-465b66f17928",
   "metadata": {},
   "source": [
    "## **Exercise 4: Smoothed Time Series and Trend**"
   ]
  },
  {
   "cell_type": "markdown",
   "id": "ef372ba4-94d8-45b0-934f-62bde8f0294d",
   "metadata": {},
   "source": [
    "## 5. Overall Trend in Temperature Anomalies\n",
    "\n",
    "Global temperature anomalies can be displayed together with the smoothed time series (based on different filtering techniques) and the linear trend line on the [NOAA website](https://www.ncei.noaa.gov/access/monitoring/climate-at-a-glance/global/time-series)."
   ]
  },
  {
   "cell_type": "markdown",
   "id": "eb937963-0c79-4d36-80e2-93cdd8ab52df",
   "metadata": {},
   "source": [
    "**Exercise:** Apply smoothing to the original time series using a 5-year mean, calculate the trend using linear regression (use 'numerical_index' as the time component) and retreive the average warming in °C per decade."
   ]
  },
  {
   "cell_type": "code",
   "execution_count": null,
   "id": "438a981c-ddd8-4e06-abdd-ef28b76026fd",
   "metadata": {},
   "outputs": [],
   "source": [
    "# Convert the datetime index to a numerical format to avoid type conflicts in trend calculation\n",
    "numerical_index = np.arange(len(global_temp))"
   ]
  },
  {
   "cell_type": "code",
   "execution_count": null,
   "id": "dd05a82c-aa44-41f5-9e9e-e6c996f744ee",
   "metadata": {},
   "outputs": [],
   "source": []
  }
 ],
 "metadata": {
  "kernelspec": {
   "display_name": "Python 3 (ipykernel)",
   "language": "python",
   "name": "python3"
  },
  "language_info": {
   "codemirror_mode": {
    "name": "ipython",
    "version": 3
   },
   "file_extension": ".py",
   "mimetype": "text/x-python",
   "name": "python",
   "nbconvert_exporter": "python",
   "pygments_lexer": "ipython3",
   "version": "3.11.10"
  }
 },
 "nbformat": 4,
 "nbformat_minor": 5
}
