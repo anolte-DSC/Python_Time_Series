{
 "cells": [
  {
   "cell_type": "markdown",
   "id": "01ecba74-c086-4a38-af15-2b12350a240f",
   "metadata": {},
   "source": [
    "<img src=\"../Images/DSC_Logo.png\" style=\"width: 400px;\">"
   ]
  },
  {
   "cell_type": "markdown",
   "id": "49822811-91f7-4d38-ad1d-eec181a2f1bf",
   "metadata": {},
   "source": [
    "# Time Series Concepts in Python \n",
    "\n",
    "This notebook explores foundational time series programming concepts in Python."
   ]
  },
  {
   "cell_type": "code",
   "execution_count": null,
   "id": "e262eab9-c645-45e3-8aaa-0958a4d5c786",
   "metadata": {},
   "outputs": [],
   "source": [
    "import numpy as np\n",
    "import pandas as pd\n",
    "import math\n",
    "import statistics as stat\n",
    "import random\n",
    "from datetime import datetime\n",
    "import xarray as xr\n",
    "import py7zr\n",
    "import matplotlib.pyplot as plt\n",
    "import cartopy.crs as ccrs"
   ]
  },
  {
   "cell_type": "markdown",
   "id": "a2e0c7d3-a5f6-4df5-ad9a-46212b7421ae",
   "metadata": {},
   "source": [
    "## 1. Create time series in Python"
   ]
  },
  {
   "cell_type": "markdown",
   "id": "6277a0a3-0ec5-4edb-8233-260ca35de7e2",
   "metadata": {},
   "source": [
    "## 1.1 Python `datetime`"
   ]
  },
  {
   "cell_type": "markdown",
   "id": "7aa5c6a7-aebe-4a81-b51a-17e6f9d4397c",
   "metadata": {},
   "source": [
    "The datetime format in Python refers to representing and displaying dates and times. In Python's built-in `datetime` module, the `strftime` method formats `datetime` objects into readable strings based on specified format codes, e.g. `%Y`: Year with century (e.g., 2023); `%m`: Month as a zero-padded decimal (01 to 12); `%d`: Day of the month as a zero-padded decimal (01 to 31); `%H`: Hour (24-hour clock) as a zero-padded decimal (00 to 23);..."
   ]
  },
  {
   "cell_type": "code",
   "execution_count": null,
   "id": "8cffdb01-4e5e-49ff-889e-1ab0148825ec",
   "metadata": {},
   "outputs": [],
   "source": [
    "my_year = 2020\n",
    "my_month = 1\n",
    "my_day = 23\n",
    "# my_hour = ...\n",
    "\n",
    "my_date = datetime(my_year,my_month,my_day)\n",
    "print(my_date)"
   ]
  },
  {
   "cell_type": "code",
   "execution_count": null,
   "id": "4c189084-6098-4e3e-a2e9-f4d9a138d765",
   "metadata": {},
   "outputs": [],
   "source": [
    "print(my_date.day)"
   ]
  },
  {
   "cell_type": "markdown",
   "id": "f1f894af-6255-439b-a709-398d9c8969e4",
   "metadata": {},
   "source": [
    "Operations in datetime format:"
   ]
  },
  {
   "cell_type": "code",
   "execution_count": null,
   "id": "4f2ee6c9-2bdb-425f-b293-10ab7ec99019",
   "metadata": {},
   "outputs": [],
   "source": [
    "nowday = datetime.today()\n",
    "diff = nowday - my_date\n",
    "print(diff.days)"
   ]
  },
  {
   "cell_type": "markdown",
   "id": "859b3174-dbfe-4c67-a48f-0c3d3bff46f5",
   "metadata": {},
   "source": [
    "## 1.2. `datetime64` and `timedelta64` in NumPy"
   ]
  },
  {
   "cell_type": "code",
   "execution_count": null,
   "id": "032a7a1d-0ab5-4d57-98e4-917578b140d2",
   "metadata": {},
   "outputs": [],
   "source": [
    "np.array(['2020-03-09','2020-03-10','2020-03-11','2020-03-12','2020-03-13','2020-03-14'], dtype='datetime64')\n",
    "# or:\n",
    "np.arange('2020-03-09','2020-03-15', dtype='datetime64[D]')"
   ]
  },
  {
   "cell_type": "code",
   "execution_count": null,
   "id": "612dbffd-ae7b-450f-a0f2-cd694df63332",
   "metadata": {},
   "outputs": [],
   "source": [
    "# Create a timedelta of 5 days\n",
    "np.timedelta64(5, 'D')"
   ]
  },
  {
   "cell_type": "markdown",
   "id": "b12bb3c4-8324-41d9-8626-0960ffa1f8c8",
   "metadata": {},
   "source": [
    "## 1.3. `datetime64` and `timedelta64` in Pandas"
   ]
  },
  {
   "cell_type": "markdown",
   "id": "bc36b5b1-8690-47b9-860c-6e754b4db141",
   "metadata": {},
   "source": [
    "Pandas has a `DatetimeIndex` for time series data, which allows for easy indexing and slicing of dates:"
   ]
  },
  {
   "cell_type": "code",
   "execution_count": null,
   "id": "e6b80205-b1ea-4b25-8c30-de12d618aca4",
   "metadata": {},
   "outputs": [],
   "source": [
    "pd.date_range('2020-03-09', periods=6, freq='D')"
   ]
  },
  {
   "cell_type": "markdown",
   "id": "4604eaad-b383-46c4-9e37-0a1437311e86",
   "metadata": {},
   "source": [
    "Pandas utilizes `Timestamp` objects to represent specific points in time (built on top of NumPy's `datetime64` data type).  \n",
    "\n",
    "Convert a string representation of a date into a Pandas `Timestamp` object:"
   ]
  },
  {
   "cell_type": "code",
   "execution_count": null,
   "id": "f583c76c-6cd0-41ea-9ab4-062b33db8e03",
   "metadata": {},
   "outputs": [],
   "source": [
    "pd.to_datetime('2020-09-03', format='%Y-%m-%d')"
   ]
  },
  {
   "cell_type": "markdown",
   "id": "2de1f363-6fe8-4e5c-86b7-e6e53c99b36f",
   "metadata": {},
   "source": [
    "**Exercise:** How can the following format be converted into a DateTime object: 15/10/2020"
   ]
  },
  {
   "cell_type": "code",
   "execution_count": null,
   "id": "ad2fcf64-c2e7-4192-929d-d21baed1b23a",
   "metadata": {},
   "outputs": [],
   "source": [
    "pd.to_datetime('15/10/2020', format='%d/%m/%Y')"
   ]
  },
  {
   "cell_type": "markdown",
   "id": "ec125e47-ea41-4b2a-b798-c4cef4bfc087",
   "metadata": {},
   "source": [
    "## 1.4. Create a Pandas time series dataframe"
   ]
  },
  {
   "cell_type": "code",
   "execution_count": null,
   "id": "d03c22d1-852a-4700-8e55-eda924fd0ac8",
   "metadata": {},
   "outputs": [],
   "source": [
    "data = np.random.randn(6,2) # create a 2-dimensional array of random numbers\n",
    "cols = ['A','B']\n",
    "idx = pd.date_range('2020-03-09', periods=6, freq='D')\n",
    "df = pd.DataFrame(data, index=idx, columns=cols)\n",
    "print(df)"
   ]
  },
  {
   "cell_type": "code",
   "execution_count": null,
   "id": "5576fc57-7153-4188-9045-3328c3389b9b",
   "metadata": {},
   "outputs": [],
   "source": [
    "df.plot()"
   ]
  },
  {
   "cell_type": "markdown",
   "id": "184876ef-9b17-48de-8219-23e4958b4e4d",
   "metadata": {},
   "source": [
    "**Exercise:** Create a Pandas time series dataframe that contains decadal data and plot the time series. Refer to [pandas documentation](https://pandas.pydata.org/pandas-docs/stable/user_guide/timeseries.html#dateoffset-objects) for a full list of frequency strings."
   ]
  },
  {
   "cell_type": "code",
   "execution_count": null,
   "id": "d1cf59f9-40f8-4354-b095-65a78c06a79e",
   "metadata": {},
   "outputs": [],
   "source": [
    "data = np.random.randn(100,2)\n",
    "cols = ['A','B']\n",
    "idx = pd.date_range('2020-03-09', periods=100, freq='YE')\n",
    "df2 = pd.DataFrame(data, index=idx, columns=cols)\n",
    "print(df2)\n",
    "df2.plot()"
   ]
  },
  {
   "cell_type": "markdown",
   "id": "ddac9994-7d38-4781-8681-db2544ca1218",
   "metadata": {},
   "source": [
    "## 1.5 Interchange date column and index in dataframes\n",
    "\n",
    "Interchanging the date column and the index in DataFrames can make data easier to analyze and visualize."
   ]
  },
  {
   "cell_type": "code",
   "execution_count": null,
   "id": "cffca047-29d6-484f-b5dd-2479c186e99d",
   "metadata": {},
   "outputs": [],
   "source": [
    "df['Date'] = df.index\n",
    "print(df)"
   ]
  },
  {
   "cell_type": "markdown",
   "id": "0c5c01da-e98d-40f0-b016-688237911ad3",
   "metadata": {},
   "source": [
    "## 1.6 Derive DateTime elements"
   ]
  },
  {
   "cell_type": "code",
   "execution_count": null,
   "id": "668f3094-7e76-4f2c-b793-05ca6861fd15",
   "metadata": {},
   "outputs": [],
   "source": [
    "df['Month'] = df['Date'].dt.month\n",
    "print(df)"
   ]
  },
  {
   "cell_type": "code",
   "execution_count": null,
   "id": "21e62f37-2941-4547-9df2-ae4ec4119718",
   "metadata": {},
   "outputs": [],
   "source": [
    "df['Month'] = df.index.month\n",
    "print(df)"
   ]
  },
  {
   "cell_type": "markdown",
   "id": "c9b7f92b-b33f-43b7-a2a9-6cbcec530ec2",
   "metadata": {},
   "source": [
    "**Exercise:** How could we define a new column with the years?"
   ]
  },
  {
   "cell_type": "code",
   "execution_count": null,
   "id": "c0aa6abe-876d-4902-b6f8-437ab97d4e18",
   "metadata": {},
   "outputs": [],
   "source": [
    "df['Year'] = df['Date'].dt.year\n",
    "print(df)"
   ]
  },
  {
   "cell_type": "markdown",
   "id": "2620ef2f-5e67-41dd-8111-b65b3ecad634",
   "metadata": {},
   "source": [
    "## 2. Basic time series operations"
   ]
  },
  {
   "cell_type": "markdown",
   "id": "3910f1bd-e6f7-46f6-9370-72b749c68ddf",
   "metadata": {},
   "source": [
    "## 2.1. Resampling - changing the frequency of time series data"
   ]
  },
  {
   "cell_type": "code",
   "execution_count": null,
   "id": "4aa23341-dbef-49a1-a78d-8f071cf68868",
   "metadata": {},
   "outputs": [],
   "source": [
    "df.resample('W-MON').mean()"
   ]
  },
  {
   "cell_type": "markdown",
   "id": "8c2cd1cf-ca6b-4263-b901-64692adc7126",
   "metadata": {},
   "source": [
    "## 2.2 Shifting the data points in a time series forward (or backward) in time"
   ]
  },
  {
   "cell_type": "code",
   "execution_count": null,
   "id": "c203e4b8-c4a6-4cf3-97a0-d281c1607588",
   "metadata": {},
   "outputs": [],
   "source": [
    "df.shift(1)"
   ]
  },
  {
   "cell_type": "markdown",
   "id": "804f9616-3ba2-4b0d-b94d-1e218bba2680",
   "metadata": {},
   "source": [
    "## 2.3 Time-based slicing"
   ]
  },
  {
   "cell_type": "code",
   "execution_count": null,
   "id": "9c2c9d66-d0a5-440f-be92-d15dc95248b5",
   "metadata": {},
   "outputs": [],
   "source": [
    "df['2020-03-10':'2020-03-12']\n",
    "# or\n",
    "df[(df['Date'] >= '2020-03-10') & (df['Date'] <= '2020-03-12')]"
   ]
  },
  {
   "cell_type": "markdown",
   "id": "4854838d-70ee-4670-b963-f4217249dea8",
   "metadata": {},
   "source": [
    "## 3. Import & analyze - temperature time series\n",
    "![sky](../Images/temperature.jpg)\n",
    "\n",
    "*Image modified from Gerd Altmann, Pixabay*\n",
    "\n",
    "**Original datasets:**\n",
    "\n",
    "NOAA National Centers for Environmental information: Climate at a Glance: Global Time Series [Data set]. https://www.ncei.noaa.gov/access/monitoring/climate-at-a-glance/global/time-series, retrieved on August 23, 2024.\n",
    "\n",
    "Hersbach, H., Bell, B., Berrisford, P., Biavati, G., Horányi, A., Muñoz Sabater, J., Nicolas, J., Peubey, C., Radu, R., Rozum, I., Schepers, D., Simmons, A., Soci, C., Dee, D., Thépaut, J-N. (2023): ERA5 hourly data on single levels from 1940 to present. Copernicus Climate Change Service (C3S) Climate Data Store (CDS), DOI: 10.24381/cds.adbb2d47,  retrieved on August 27, 2024."
   ]
  },
  {
   "cell_type": "markdown",
   "id": "e8d1afba-6c97-4921-a616-080fba3f3477",
   "metadata": {},
   "source": [
    "## 3.1. Pandas for csv files"
   ]
  },
  {
   "cell_type": "markdown",
   "id": "1760e84f-0f6e-4d6c-9604-2f4ff4ae793e",
   "metadata": {},
   "source": [
    "Import data from csv:"
   ]
  },
  {
   "cell_type": "code",
   "execution_count": null,
   "id": "93797427-b332-4221-9e5c-d6c3ab9b4743",
   "metadata": {},
   "outputs": [],
   "source": [
    "path = '../Datasets/NOAA_time_series.csv' \n",
    "df = pd.read_csv(path, skiprows=4, delimiter=',')\n",
    "print(df.head())\n",
    "print(df.describe())"
   ]
  },
  {
   "cell_type": "markdown",
   "id": "48e1523f-49be-4b67-9281-fba58f77ba7e",
   "metadata": {},
   "source": [
    "Setting the time variable as index:"
   ]
  },
  {
   "cell_type": "code",
   "execution_count": null,
   "id": "f330a030-8fe5-43a8-a574-9ee3bbc0c458",
   "metadata": {},
   "outputs": [],
   "source": [
    "df.set_index('Year', inplace=True)\n",
    "print(df.head())"
   ]
  },
  {
   "cell_type": "markdown",
   "id": "9367002f-2fcf-442e-9072-39f0079b9997",
   "metadata": {},
   "source": [
    "Plot:"
   ]
  },
  {
   "cell_type": "code",
   "execution_count": null,
   "id": "49470050-4aa6-4ef6-b1c5-d7796458a844",
   "metadata": {},
   "outputs": [],
   "source": [
    "df.plot()"
   ]
  },
  {
   "cell_type": "markdown",
   "id": "294cc070-132e-47e0-b558-62b218c54e5b",
   "metadata": {},
   "source": [
    "More plots ...\n",
    "\n",
    "Boxplot:"
   ]
  },
  {
   "cell_type": "code",
   "execution_count": null,
   "id": "92b79ce9-7152-41d2-b0cd-3270f61af0bc",
   "metadata": {},
   "outputs": [],
   "source": [
    "# Create a new column for decade\n",
    "df['Decade'] = (df.index // 10) * 10\n",
    "\n",
    "# Prepare data for boxplot\n",
    "decade_data = [df[df['Decade'] == decade]['Anomaly'].values for decade in df['Decade'].unique()]\n",
    "\n",
    "# Create boxplot using matplotlib\n",
    "plt.figure()\n",
    "plt.boxplot(decade_data, labels=df['Decade'].unique())\n",
    "plt.title('Decade Boxplot of Anomalies')\n",
    "plt.xlabel('Decade')\n",
    "plt.ylabel('Anomaly')\n",
    "plt.grid(axis='y')\n",
    "plt.xticks(rotation=45)\n",
    "plt.show()"
   ]
  },
  {
   "cell_type": "markdown",
   "id": "bb731cef-40cc-4929-a5be-2d0192f86ce5",
   "metadata": {},
   "source": [
    "Bar plot:"
   ]
  },
  {
   "cell_type": "code",
   "execution_count": null,
   "id": "23a67628-fb4c-4f8e-abb6-8bef6a7887dd",
   "metadata": {},
   "outputs": [],
   "source": [
    "# Calculate the average anomaly per decade\n",
    "average_anomalies = df.groupby('Decade')['Anomaly'].median()\n",
    "\n",
    "# Create a bar plot using matplotlib\n",
    "plt.figure()\n",
    "average_anomalies.plot(kind='bar', color='skyblue')\n",
    "plt.title('Average Anomalies by Decade')\n",
    "plt.xlabel('Decade')\n",
    "plt.ylabel('Average Anomaly')\n",
    "plt.xticks(rotation=45)\n",
    "plt.grid(axis='y')\n",
    "plt.show()"
   ]
  },
  {
   "cell_type": "markdown",
   "id": "9943cb7f-0ad1-4881-9916-c4d9fb571c17",
   "metadata": {},
   "source": [
    "## 3.2. xarray for netCDF"
   ]
  },
  {
   "cell_type": "markdown",
   "id": "806bb0cf-3d96-4c56-8f48-601e33ccbe83",
   "metadata": {},
   "source": [
    "Like pandas for netCDF, it is a powerful library for handling and analyzing multi-dimensional arrays, commonly used for time series data.\n",
    "\n",
    "Load a dataset from ERA5 reanalysis: "
   ]
  },
  {
   "cell_type": "markdown",
   "id": "277648be",
   "metadata": {},
   "source": [
    "If not unpacked already, the .7z file must be unpacked (use py7zr library)."
   ]
  },
  {
   "cell_type": "code",
   "execution_count": null,
   "id": "91f478df",
   "metadata": {},
   "outputs": [],
   "source": [
    "with py7zr.SevenZipFile('../Datasets/ERA5_snippet.7z', mode='r', password='secret') as archive:\n",
    "    archive.extractall(path='../Datasets/')"
   ]
  },
  {
   "cell_type": "code",
   "execution_count": null,
   "id": "36f0873d-9089-4bb0-88b0-4d5ebce82bff",
   "metadata": {},
   "outputs": [],
   "source": [
    "ERA5 = xr.open_dataset('../Datasets/ERA5_snippet.nc')"
   ]
  },
  {
   "cell_type": "markdown",
   "id": "47c0b163-6ca0-433e-8489-5c4b978f3f7c",
   "metadata": {},
   "source": [
    "Investigate:"
   ]
  },
  {
   "cell_type": "code",
   "execution_count": null,
   "id": "44accc1c-e39b-44d2-aca5-bb142ca26398",
   "metadata": {},
   "outputs": [],
   "source": [
    "print(ERA5)"
   ]
  },
  {
   "cell_type": "code",
   "execution_count": null,
   "id": "492026af-1a36-4531-8430-99c61c856cae",
   "metadata": {},
   "outputs": [],
   "source": [
    "print(ERA5['tp'])"
   ]
  },
  {
   "cell_type": "code",
   "execution_count": null,
   "id": "a87153a3-6582-422d-9b7b-05886f25a2fb",
   "metadata": {
    "scrolled": true
   },
   "outputs": [],
   "source": [
    "print(ERA5['t2m'])"
   ]
  },
  {
   "cell_type": "markdown",
   "id": "073a7e01-2454-4d71-a482-98b860eefd75",
   "metadata": {},
   "source": [
    "Mathematical operations:"
   ]
  },
  {
   "cell_type": "code",
   "execution_count": null,
   "id": "2fb81c97-992e-40c6-a1f5-6bdb2980c328",
   "metadata": {
    "scrolled": true
   },
   "outputs": [],
   "source": [
    "ERA5['t2m'] = ERA5['t2m'] - 273.15 # convert K to °C\n",
    "print(ERA5['t2m'])"
   ]
  },
  {
   "cell_type": "markdown",
   "id": "79ad9b91-ec4b-45ce-9b28-b79bdeea0dea",
   "metadata": {},
   "source": [
    "Resample:"
   ]
  },
  {
   "cell_type": "code",
   "execution_count": null,
   "id": "03b780f0-a9b4-4784-b30d-7f1fbf204459",
   "metadata": {},
   "outputs": [],
   "source": [
    "ERA5 = ERA5.resample(time='1D').mean()  # Daily mean\n",
    "print(ERA5)"
   ]
  },
  {
   "cell_type": "markdown",
   "id": "171279c1-3429-43e6-9d92-3be096b1f51d",
   "metadata": {},
   "source": [
    "Select a specific date:"
   ]
  },
  {
   "cell_type": "code",
   "execution_count": null,
   "id": "df7dd8c7-252c-458c-bfd0-9b82a3a030b2",
   "metadata": {},
   "outputs": [],
   "source": [
    "print(ERA5['t2m'][0,:,:]) # select by index\n",
    "# or \n",
    "print(ERA5['t2m'].sel(time='2023-01-01')) # select by time component"
   ]
  },
  {
   "cell_type": "markdown",
   "id": "01ed7b7b-3022-4862-9d80-25c01f9090e6",
   "metadata": {},
   "source": [
    "Plot with `matplotlib`:"
   ]
  },
  {
   "cell_type": "code",
   "execution_count": null,
   "id": "c0b526a1-1a22-42fa-bf48-11d42f6146db",
   "metadata": {},
   "outputs": [],
   "source": [
    "ERA5['t2m'][0,:,:].plot(cmap='viridis')"
   ]
  },
  {
   "cell_type": "markdown",
   "id": "4a8fe8fe-ed5f-4df2-ac28-27d1044819ba",
   "metadata": {},
   "source": [
    "Plot with `cartopy` & `matplotlib`:"
   ]
  },
  {
   "cell_type": "code",
   "execution_count": null,
   "id": "edf8129e-e472-48b3-9bf0-706cfeecea9b",
   "metadata": {},
   "outputs": [],
   "source": [
    "plt.figure()\n",
    "ax = plt.axes(projection=ccrs.PlateCarree())\n",
    "\n",
    "# Use the plot method for quick visualization\n",
    "ERA5['t2m'][0,:,:].plot(ax=ax, cmap='viridis', add_colorbar=True)\n",
    "\n",
    "# Add coastlines and grid lines\n",
    "ax.coastlines()\n",
    "ax.gridlines(draw_labels=True)\n",
    "\n",
    "plt.title('2-Meter Temperature [°C] on 2023-01-01 00:00:00 over Germany')\n",
    "plt.show()"
   ]
  },
  {
   "cell_type": "markdown",
   "id": "2cabb565-c114-4d29-99cb-2c8cf38fd529",
   "metadata": {},
   "source": [
    "### Extracting 1D time series from a single grid cell:"
   ]
  },
  {
   "cell_type": "markdown",
   "id": "bda757e3-21ae-4897-9840-ca76a7818b86",
   "metadata": {},
   "source": [
    "Select data for Bremen:"
   ]
  },
  {
   "cell_type": "code",
   "execution_count": null,
   "id": "5d4536dc-1b4b-4199-b637-422c09ca051f",
   "metadata": {},
   "outputs": [],
   "source": [
    "bremen = ERA5.sel(longitude=8.808, latitude=53.075, method='nearest')\n",
    "print(bremen)"
   ]
  },
  {
   "cell_type": "markdown",
   "id": "e9e713fd-af07-46ed-b86b-42700a0df44f",
   "metadata": {},
   "source": [
    "Plot:"
   ]
  },
  {
   "cell_type": "code",
   "execution_count": null,
   "id": "19a5998e-f0e4-4c15-ab51-1bca1ec1d356",
   "metadata": {
    "scrolled": true
   },
   "outputs": [],
   "source": [
    "bremen['t2m'].plot()\n",
    "plt.title('Daily mean temperature for Bremen in the year 2023')\n",
    "plt.ylabel('Temperature (°C)')\n",
    "plt.xlabel('Date')\n",
    "plt.grid()\n",
    "plt.show()"
   ]
  },
  {
   "cell_type": "markdown",
   "id": "8d089c5d-bf5a-45a2-8dfc-a898255561c2",
   "metadata": {},
   "source": [
    "**Exercise:** Select and plot the temperature time series for another region of your choice in Germany."
   ]
  },
  {
   "cell_type": "code",
   "execution_count": null,
   "id": "30dbf534-6508-452b-a8e7-8792f8eb1c9c",
   "metadata": {},
   "outputs": [],
   "source": [
    "berlin = ERA5.sel(longitude=13.405, latitude=52.520, method='nearest')\n",
    "print(berlin)"
   ]
  },
  {
   "cell_type": "code",
   "execution_count": null,
   "id": "c782b73a-a729-4581-9ce9-167f42ff6f0e",
   "metadata": {},
   "outputs": [],
   "source": [
    "berlin['t2m'].plot()\n",
    "plt.title('Daily mean temperature for Bremen in the year 2023')\n",
    "plt.ylabel('Temperature (°C)')\n",
    "plt.xlabel('Date')\n",
    "plt.grid()\n",
    "plt.show()"
   ]
  }
 ],
 "metadata": {
  "kernelspec": {
   "display_name": "Python 3 (ipykernel)",
   "language": "python",
   "name": "python3"
  },
  "language_info": {
   "codemirror_mode": {
    "name": "ipython",
    "version": 3
   },
   "file_extension": ".py",
   "mimetype": "text/x-python",
   "name": "python",
   "nbconvert_exporter": "python",
   "pygments_lexer": "ipython3",
   "version": "3.11.10"
  }
 },
 "nbformat": 4,
 "nbformat_minor": 5
}
