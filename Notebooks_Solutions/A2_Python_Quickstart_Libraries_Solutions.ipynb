{
 "cells": [
  {
   "cell_type": "markdown",
   "id": "48eca60f-5bb9-49b3-aebd-30cffd9d99cb",
   "metadata": {},
   "source": [
    "<img src=\"../Images/DSC_Logo.png\" style=\"width: 400px;\">"
   ]
  },
  {
   "cell_type": "markdown",
   "id": "541f387c-9f50-4373-9f5a-b2ef0a1c2089",
   "metadata": {},
   "source": [
    "# Python Libraries"
   ]
  },
  {
   "cell_type": "markdown",
   "id": "51385aad-fc62-4091-893f-8baabd76ee34",
   "metadata": {},
   "source": [
    "Python works with libraries, which are collections of pre-written code that provide useful functions and tools for various tasks. This notebooks contains a quickstart to two fundamental Python libraries for data analysis: NumPy (`numpy`) and Pandas (`pandas`)."
   ]
  },
  {
   "cell_type": "markdown",
   "id": "5e5ef15c-ea6c-41ae-879f-526dd3c86a9d",
   "metadata": {},
   "source": [
    "<img src=\"../Images/pandas_numpy.png\" style=\"width: 300px;\">"
   ]
  },
  {
   "cell_type": "markdown",
   "id": "d37414be-b75c-4703-98aa-b510e639d61e",
   "metadata": {},
   "source": [
    "Data analysis with `pandas` works with tabular data using **DataFrames** (similar to Excel spreadsheets or database tables. DataFrames have a 2-dimensional data structure and labeled axes (rows and columns). These are indexed for effiecient data retrieval."
   ]
  },
  {
   "cell_type": "markdown",
   "id": "a20fa712-e050-4f19-a4e3-32d28958849a",
   "metadata": {},
   "source": [
    "<img src=\"../Images/dataframe.png\" style=\"width: 300px;\">"
   ]
  },
  {
   "cell_type": "markdown",
   "id": "9f7f6262-5549-4f1c-b24f-571fada99214",
   "metadata": {},
   "source": [
    "`numpy` is the foundational library for numerical computing, supporting large and multi-dimensional **arrays** and vectorized operations. A data array is a structure for stroring elements of the same type. Arrays can be one-dimensional (like a list) or multi-dimensional (like a matrix)."
   ]
  },
  {
   "cell_type": "markdown",
   "id": "9333a3c6-ebf4-4d4c-aaa8-2ebf3b57add9",
   "metadata": {},
   "source": [
    "<img src=\"../Images/array.png\" style=\"width: 600px;\">"
   ]
  },
  {
   "cell_type": "markdown",
   "id": "1fe7475f-703b-4fde-8045-b43e5eefbd13",
   "metadata": {},
   "source": [
    "## 1. Predefined functions"
   ]
  },
  {
   "cell_type": "markdown",
   "id": "a493bdbb-cd8e-4ff6-a175-0030bddfae9c",
   "metadata": {},
   "source": [
    "Python packages have predefined functions for mathematical operations; Examples below:"
   ]
  },
  {
   "cell_type": "code",
   "execution_count": 1,
   "id": "91cae2fb-0d77-4fc6-910f-4d82fed967f2",
   "metadata": {},
   "outputs": [],
   "source": [
    "import numpy as np\n",
    "import statistics as stat\n",
    "import math"
   ]
  },
  {
   "cell_type": "code",
   "execution_count": 2,
   "id": "030483b8-52be-4700-8cec-22d1a9650a48",
   "metadata": {},
   "outputs": [],
   "source": [
    "x = [2.75, 1.75, 1.25, 0.25, 0.5, 1.25, 3.5]"
   ]
  },
  {
   "cell_type": "code",
   "execution_count": 3,
   "id": "7b6b2f69-7a98-46c4-9519-dfafd5ef1861",
   "metadata": {},
   "outputs": [
    {
     "data": {
      "text/plain": [
       "1.6071428571428572"
      ]
     },
     "execution_count": 3,
     "metadata": {},
     "output_type": "execute_result"
    }
   ],
   "source": [
    "stat.mean(x)"
   ]
  },
  {
   "cell_type": "code",
   "execution_count": 4,
   "id": "6c9b8849-b2a4-4936-aa01-a84fb408de8e",
   "metadata": {},
   "outputs": [
    {
     "data": {
      "text/plain": [
       "np.float64(1.6071428571428572)"
      ]
     },
     "execution_count": 4,
     "metadata": {},
     "output_type": "execute_result"
    }
   ],
   "source": [
    "np.mean(x)"
   ]
  },
  {
   "cell_type": "code",
   "execution_count": 5,
   "id": "520f6feb-a893-49e7-aa0e-3617480ea019",
   "metadata": {},
   "outputs": [
    {
     "data": {
      "text/plain": [
       "1.25"
      ]
     },
     "execution_count": 5,
     "metadata": {},
     "output_type": "execute_result"
    }
   ],
   "source": [
    "stat.median(x)"
   ]
  },
  {
   "cell_type": "code",
   "execution_count": 6,
   "id": "4bb346e0-193a-4381-8b7f-dccaf0e32ae5",
   "metadata": {
    "scrolled": true
   },
   "outputs": [
    {
     "data": {
      "text/plain": [
       "1.3720238095238095"
      ]
     },
     "execution_count": 6,
     "metadata": {},
     "output_type": "execute_result"
    }
   ],
   "source": [
    "stat.variance(x)"
   ]
  },
  {
   "cell_type": "code",
   "execution_count": 7,
   "id": "6dda74de-6710-4d4b-ba96-40638c254692",
   "metadata": {},
   "outputs": [
    {
     "data": {
      "text/plain": [
       "24.532530197109352"
      ]
     },
     "execution_count": 7,
     "metadata": {},
     "output_type": "execute_result"
    }
   ],
   "source": [
    "math.exp(3.2)"
   ]
  },
  {
   "cell_type": "code",
   "execution_count": 8,
   "id": "ad417208-bcba-4525-9143-308a2353f9da",
   "metadata": {},
   "outputs": [
    {
     "data": {
      "text/plain": [
       "1.7320508075688772"
      ]
     },
     "execution_count": 8,
     "metadata": {},
     "output_type": "execute_result"
    }
   ],
   "source": [
    "math.sqrt(3)"
   ]
  },
  {
   "cell_type": "code",
   "execution_count": 9,
   "id": "925858c4-c9d8-4330-b394-de592af9edb5",
   "metadata": {},
   "outputs": [
    {
     "data": {
      "text/plain": [
       "0.9092974268256817"
      ]
     },
     "execution_count": 9,
     "metadata": {},
     "output_type": "execute_result"
    }
   ],
   "source": [
    "math.sin(2)"
   ]
  },
  {
   "cell_type": "markdown",
   "id": "882b2c97-e9f1-45e8-b1e9-1dca408fedaa",
   "metadata": {},
   "source": [
    "## 2. NumPy & Pandas - Temperature time series\n",
    "![sky](../Images/temperature.jpg)\n",
    "\n",
    "*Image modified from Gerd Altmann, Pixabay*\n",
    "\n",
    "**Original dataset:**\n",
    "\n",
    "NOAA National Centers for Environmental information: Climate at a Glance: Global Time Series [Data set]. https://www.ncei.noaa.gov/access/monitoring/climate-at-a-glance/global/time-series, retrieved on August 23, 2024."
   ]
  },
  {
   "cell_type": "markdown",
   "id": "5535d80d-0e32-486f-b397-76b2005fbbba",
   "metadata": {},
   "source": [
    "## 2.1 NumPy"
   ]
  },
  {
   "cell_type": "code",
   "execution_count": 10,
   "id": "c8d6ca3c-b90e-4785-969d-2955e6535166",
   "metadata": {},
   "outputs": [],
   "source": [
    "import numpy as np "
   ]
  },
  {
   "cell_type": "markdown",
   "id": "8a90b669-1d6f-4f5e-92a0-1c55c2cfaec2",
   "metadata": {},
   "source": [
    "Import data as a 2D numpy array:"
   ]
  },
  {
   "cell_type": "code",
   "execution_count": 11,
   "id": "ecc6780e-3a46-42dd-9a49-06eba2c66a49",
   "metadata": {},
   "outputs": [
    {
     "name": "stdout",
     "output_type": "stream",
     "text": [
      "[[ 1.850e+03 -3.000e-02]\n",
      " [ 1.851e+03  7.000e-02]\n",
      " [ 1.852e+03  8.000e-02]\n",
      " [ 1.853e+03  1.300e-01]\n",
      " [ 1.854e+03  0.000e+00]\n",
      " [ 1.855e+03 -1.200e-01]\n",
      " [ 1.856e+03 -1.400e-01]\n",
      " [ 1.857e+03 -1.600e-01]\n",
      " [ 1.858e+03 -1.400e-01]\n",
      " [ 1.859e+03 -1.300e-01]\n",
      " [ 1.860e+03 -2.100e-01]\n",
      " [ 1.861e+03 -1.500e-01]\n",
      " [ 1.862e+03 -2.700e-01]\n",
      " [ 1.863e+03 -2.300e-01]\n",
      " [ 1.864e+03 -9.000e-02]\n",
      " [ 1.865e+03  1.000e-02]\n",
      " [ 1.866e+03  0.000e+00]\n",
      " [ 1.867e+03 -1.800e-01]\n",
      " [ 1.868e+03 -8.000e-02]\n",
      " [ 1.869e+03 -9.000e-02]\n",
      " [ 1.870e+03 -2.000e-02]\n",
      " [ 1.871e+03 -2.000e-02]\n",
      " [ 1.872e+03 -1.000e-01]\n",
      " [ 1.873e+03 -8.000e-02]\n",
      " [ 1.874e+03 -2.300e-01]\n",
      " [ 1.875e+03 -9.000e-02]\n",
      " [ 1.876e+03 -1.700e-01]\n",
      " [ 1.877e+03  2.900e-01]\n",
      " [ 1.878e+03  2.200e-01]\n",
      " [ 1.879e+03 -1.000e-02]\n",
      " [ 1.880e+03 -2.100e-01]\n",
      " [ 1.881e+03  0.000e+00]\n",
      " [ 1.882e+03 -2.100e-01]\n",
      " [ 1.883e+03 -8.000e-02]\n",
      " [ 1.884e+03 -3.300e-01]\n",
      " [ 1.885e+03 -2.600e-01]\n",
      " [ 1.886e+03 -1.800e-01]\n",
      " [ 1.887e+03 -2.600e-01]\n",
      " [ 1.888e+03 -1.000e-02]\n",
      " [ 1.889e+03 -7.000e-02]\n",
      " [ 1.890e+03 -2.600e-01]\n",
      " [ 1.891e+03 -1.100e-01]\n",
      " [ 1.892e+03 -3.200e-01]\n",
      " [ 1.893e+03 -2.000e-01]\n",
      " [ 1.894e+03 -2.100e-01]\n",
      " [ 1.895e+03 -1.000e-01]\n",
      " [ 1.896e+03 -7.000e-02]\n",
      " [ 1.897e+03 -2.000e-02]\n",
      " [ 1.898e+03 -1.200e-01]\n",
      " [ 1.899e+03 -1.000e-01]\n",
      " [ 1.900e+03 -9.000e-02]\n",
      " [ 1.901e+03 -1.100e-01]\n",
      " [ 1.902e+03 -1.700e-01]\n",
      " [ 1.903e+03 -3.600e-01]\n",
      " [ 1.904e+03 -4.300e-01]\n",
      " [ 1.905e+03 -1.600e-01]\n",
      " [ 1.906e+03 -1.300e-01]\n",
      " [ 1.907e+03 -2.900e-01]\n",
      " [ 1.908e+03 -3.300e-01]\n",
      " [ 1.909e+03 -4.200e-01]\n",
      " [ 1.910e+03 -2.900e-01]\n",
      " [ 1.911e+03 -4.100e-01]\n",
      " [ 1.912e+03 -3.600e-01]\n",
      " [ 1.913e+03 -3.400e-01]\n",
      " [ 1.914e+03 -2.100e-01]\n",
      " [ 1.915e+03 -5.000e-02]\n",
      " [ 1.916e+03 -3.100e-01]\n",
      " [ 1.917e+03 -1.800e-01]\n",
      " [ 1.918e+03 -2.700e-01]\n",
      " [ 1.919e+03 -2.600e-01]\n",
      " [ 1.920e+03 -2.900e-01]\n",
      " [ 1.921e+03 -1.200e-01]\n",
      " [ 1.922e+03 -2.900e-01]\n",
      " [ 1.923e+03 -3.100e-01]\n",
      " [ 1.924e+03 -3.000e-01]\n",
      " [ 1.925e+03 -2.200e-01]\n",
      " [ 1.926e+03 -2.200e-01]\n",
      " [ 1.927e+03 -1.700e-01]\n",
      " [ 1.928e+03 -1.900e-01]\n",
      " [ 1.929e+03 -3.700e-01]\n",
      " [ 1.930e+03 -8.000e-02]\n",
      " [ 1.931e+03 -1.000e-02]\n",
      " [ 1.932e+03 -2.100e-01]\n",
      " [ 1.933e+03 -2.300e-01]\n",
      " [ 1.934e+03 -9.000e-02]\n",
      " [ 1.935e+03 -1.100e-01]\n",
      " [ 1.936e+03 -4.000e-02]\n",
      " [ 1.937e+03 -2.000e-02]\n",
      " [ 1.938e+03 -2.000e-02]\n",
      " [ 1.939e+03  4.000e-02]\n",
      " [ 1.940e+03  1.000e-01]\n",
      " [ 1.941e+03  2.100e-01]\n",
      " [ 1.942e+03  2.000e-02]\n",
      " [ 1.943e+03  9.000e-02]\n",
      " [ 1.944e+03  1.600e-01]\n",
      " [ 1.945e+03  1.100e-01]\n",
      " [ 1.946e+03 -1.000e-01]\n",
      " [ 1.947e+03  0.000e+00]\n",
      " [ 1.948e+03 -3.000e-02]\n",
      " [ 1.949e+03 -7.000e-02]\n",
      " [ 1.950e+03 -6.000e-02]\n",
      " [ 1.951e+03  4.000e-02]\n",
      " [ 1.952e+03  6.000e-02]\n",
      " [ 1.953e+03  0.000e+00]\n",
      " [ 1.954e+03 -8.000e-02]\n",
      " [ 1.955e+03 -9.000e-02]\n",
      " [ 1.956e+03 -1.000e-01]\n",
      " [ 1.957e+03  7.000e-02]\n",
      " [ 1.958e+03  1.200e-01]\n",
      " [ 1.959e+03  9.000e-02]\n",
      " [ 1.960e+03  1.000e-02]\n",
      " [ 1.961e+03  7.000e-02]\n",
      " [ 1.962e+03  3.000e-02]\n",
      " [ 1.963e+03  8.000e-02]\n",
      " [ 1.964e+03 -3.000e-02]\n",
      " [ 1.965e+03 -7.000e-02]\n",
      " [ 1.966e+03  1.300e-01]\n",
      " [ 1.967e+03  2.000e-02]\n",
      " [ 1.968e+03 -9.000e-02]\n",
      " [ 1.969e+03  3.000e-02]\n",
      " [ 1.970e+03  5.000e-02]\n",
      " [ 1.971e+03 -3.000e-02]\n",
      " [ 1.972e+03  7.000e-02]\n",
      " [ 1.973e+03  1.500e-01]\n",
      " [ 1.974e+03  1.000e-02]\n",
      " [ 1.975e+03  2.000e-02]\n",
      " [ 1.976e+03  0.000e+00]\n",
      " [ 1.977e+03  2.200e-01]\n",
      " [ 1.978e+03  8.000e-02]\n",
      " [ 1.979e+03  1.200e-01]\n",
      " [ 1.980e+03  3.100e-01]\n",
      " [ 1.981e+03  3.200e-01]\n",
      " [ 1.982e+03  1.800e-01]\n",
      " [ 1.983e+03  2.300e-01]\n",
      " [ 1.984e+03  1.700e-01]\n",
      " [ 1.985e+03  4.000e-02]\n",
      " [ 1.986e+03  1.700e-01]\n",
      " [ 1.987e+03  4.800e-01]\n",
      " [ 1.988e+03  3.600e-01]\n",
      " [ 1.989e+03  3.000e-01]\n",
      " [ 1.990e+03  4.100e-01]\n",
      " [ 1.991e+03  4.800e-01]\n",
      " [ 1.992e+03  1.400e-01]\n",
      " [ 1.993e+03  2.600e-01]\n",
      " [ 1.994e+03  3.200e-01]\n",
      " [ 1.995e+03  4.900e-01]\n",
      " [ 1.996e+03  3.700e-01]\n",
      " [ 1.997e+03  4.200e-01]\n",
      " [ 1.998e+03  7.000e-01]\n",
      " [ 1.999e+03  3.800e-01]\n",
      " [ 2.000e+03  4.000e-01]\n",
      " [ 2.001e+03  6.200e-01]\n",
      " [ 2.002e+03  6.400e-01]\n",
      " [ 2.003e+03  5.700e-01]\n",
      " [ 2.004e+03  3.600e-01]\n",
      " [ 2.005e+03  6.400e-01]\n",
      " [ 2.006e+03  5.600e-01]\n",
      " [ 2.007e+03  5.900e-01]\n",
      " [ 2.008e+03  5.900e-01]\n",
      " [ 2.009e+03  7.400e-01]\n",
      " [ 2.010e+03  6.700e-01]\n",
      " [ 2.011e+03  7.000e-01]\n",
      " [ 2.012e+03  6.300e-01]\n",
      " [ 2.013e+03  6.200e-01]\n",
      " [ 2.014e+03  6.500e-01]\n",
      " [ 2.015e+03  7.900e-01]\n",
      " [ 2.016e+03  8.700e-01]\n",
      " [ 2.017e+03  8.500e-01]\n",
      " [ 2.018e+03  8.400e-01]\n",
      " [ 2.019e+03  9.200e-01]\n",
      " [ 2.020e+03  9.100e-01]\n",
      " [ 2.021e+03  9.000e-01]\n",
      " [ 2.022e+03  9.000e-01]\n",
      " [ 2.023e+03  1.180e+00]\n",
      " [ 2.024e+03  1.210e+00]]\n"
     ]
    }
   ],
   "source": [
    "path = '../Datasets/NOAA_time_series.csv' # Relative path to dataset file\n",
    "time_series = np.loadtxt(path, skiprows=5, delimiter=',')\n",
    "print(time_series)"
   ]
  },
  {
   "cell_type": "markdown",
   "id": "a81adfac-0cea-4e53-86c4-9a6eef8d6440",
   "metadata": {},
   "source": [
    "Data selection: Selecting the last 30 years of data from the time series corresponds to selecting the last 30 elements of the time series."
   ]
  },
  {
   "cell_type": "code",
   "execution_count": 12,
   "id": "8d376406-7484-4080-9c0e-b0c9b048301a",
   "metadata": {
    "scrolled": true
   },
   "outputs": [
    {
     "data": {
      "text/plain": [
       "array([[1.995e+03, 4.900e-01],\n",
       "       [1.996e+03, 3.700e-01],\n",
       "       [1.997e+03, 4.200e-01],\n",
       "       [1.998e+03, 7.000e-01],\n",
       "       [1.999e+03, 3.800e-01],\n",
       "       [2.000e+03, 4.000e-01],\n",
       "       [2.001e+03, 6.200e-01],\n",
       "       [2.002e+03, 6.400e-01],\n",
       "       [2.003e+03, 5.700e-01],\n",
       "       [2.004e+03, 3.600e-01],\n",
       "       [2.005e+03, 6.400e-01],\n",
       "       [2.006e+03, 5.600e-01],\n",
       "       [2.007e+03, 5.900e-01],\n",
       "       [2.008e+03, 5.900e-01],\n",
       "       [2.009e+03, 7.400e-01],\n",
       "       [2.010e+03, 6.700e-01],\n",
       "       [2.011e+03, 7.000e-01],\n",
       "       [2.012e+03, 6.300e-01],\n",
       "       [2.013e+03, 6.200e-01],\n",
       "       [2.014e+03, 6.500e-01],\n",
       "       [2.015e+03, 7.900e-01],\n",
       "       [2.016e+03, 8.700e-01],\n",
       "       [2.017e+03, 8.500e-01],\n",
       "       [2.018e+03, 8.400e-01],\n",
       "       [2.019e+03, 9.200e-01],\n",
       "       [2.020e+03, 9.100e-01],\n",
       "       [2.021e+03, 9.000e-01],\n",
       "       [2.022e+03, 9.000e-01],\n",
       "       [2.023e+03, 1.180e+00],\n",
       "       [2.024e+03, 1.210e+00]])"
      ]
     },
     "execution_count": 12,
     "metadata": {},
     "output_type": "execute_result"
    }
   ],
   "source": [
    "time_series[-30:, :]"
   ]
  },
  {
   "cell_type": "markdown",
   "id": "a34e111f-2074-468e-9eb5-4d28bc63b1cd",
   "metadata": {},
   "source": [
    "However, selecting elements from an array based on the values in a specific column is also possible using boolean indexing:"
   ]
  },
  {
   "cell_type": "code",
   "execution_count": 13,
   "id": "89015e73-02c8-4380-8195-a5fae4ac6b1c",
   "metadata": {},
   "outputs": [
    {
     "name": "stdout",
     "output_type": "stream",
     "text": [
      "[False False False False False False False False False False False False\n",
      " False False False False False False False False False False False False\n",
      " False False False False False False False False False False False False\n",
      " False False False False False False False False False False False False\n",
      " False False False False False False False False False False False False\n",
      " False False False False False False False False False False False False\n",
      " False False False False False False False False False False False False\n",
      " False False False False False False False False False False False False\n",
      " False False False False False False False False False False False False\n",
      " False False False False False False False False False False False False\n",
      " False False False False False False False False False False False False\n",
      " False False False False False False False False False False False False\n",
      " False False  True  True  True  True  True  True  True  True  True  True\n",
      "  True  True  True  True  True  True  True  True  True  True  True  True\n",
      "  True  True  True  True  True  True  True]\n"
     ]
    }
   ],
   "source": [
    "mask = time_series[:, 0] > 1995\n",
    "print(mask)"
   ]
  },
  {
   "cell_type": "code",
   "execution_count": 14,
   "id": "5cef423b-4130-4a4f-9d2a-e02699681118",
   "metadata": {},
   "outputs": [
    {
     "name": "stdout",
     "output_type": "stream",
     "text": [
      "[[1.996e+03 3.700e-01]\n",
      " [1.997e+03 4.200e-01]\n",
      " [1.998e+03 7.000e-01]\n",
      " [1.999e+03 3.800e-01]\n",
      " [2.000e+03 4.000e-01]\n",
      " [2.001e+03 6.200e-01]\n",
      " [2.002e+03 6.400e-01]\n",
      " [2.003e+03 5.700e-01]\n",
      " [2.004e+03 3.600e-01]\n",
      " [2.005e+03 6.400e-01]\n",
      " [2.006e+03 5.600e-01]\n",
      " [2.007e+03 5.900e-01]\n",
      " [2.008e+03 5.900e-01]\n",
      " [2.009e+03 7.400e-01]\n",
      " [2.010e+03 6.700e-01]\n",
      " [2.011e+03 7.000e-01]\n",
      " [2.012e+03 6.300e-01]\n",
      " [2.013e+03 6.200e-01]\n",
      " [2.014e+03 6.500e-01]\n",
      " [2.015e+03 7.900e-01]\n",
      " [2.016e+03 8.700e-01]\n",
      " [2.017e+03 8.500e-01]\n",
      " [2.018e+03 8.400e-01]\n",
      " [2.019e+03 9.200e-01]\n",
      " [2.020e+03 9.100e-01]\n",
      " [2.021e+03 9.000e-01]\n",
      " [2.022e+03 9.000e-01]\n",
      " [2.023e+03 1.180e+00]\n",
      " [2.024e+03 1.210e+00]]\n"
     ]
    }
   ],
   "source": [
    "filtered_data = time_series[mask]\n",
    "print(filtered_data)"
   ]
  },
  {
   "cell_type": "markdown",
   "id": "8d40dd80-af29-425d-b6cb-e65d7320a0c5",
   "metadata": {},
   "source": [
    "Mathematical operations:"
   ]
  },
  {
   "cell_type": "code",
   "execution_count": 15,
   "id": "d23cec63-9780-46f4-89cd-681adae633fc",
   "metadata": {},
   "outputs": [
    {
     "name": "stdout",
     "output_type": "stream",
     "text": [
      "0.07319999999999999\n"
     ]
    }
   ],
   "source": [
    "print(np.mean(time_series[:,1]))"
   ]
  },
  {
   "cell_type": "markdown",
   "id": "bae56520-b8be-4235-9c06-23a4c32f9dd7",
   "metadata": {},
   "source": [
    "**Exercise:** Convert temperature unit °C to Kelvin in the array. "
   ]
  },
  {
   "cell_type": "code",
   "execution_count": 16,
   "id": "b4ae4a08-5e77-4add-8bc2-f8fa6a2781dd",
   "metadata": {},
   "outputs": [
    {
     "data": {
      "text/plain": [
       "array([272.97, 273.07, 273.08, 273.13, 273.  , 272.88, 272.86, 272.84,\n",
       "       272.86, 272.87, 272.79, 272.85, 272.73, 272.77, 272.91, 273.01,\n",
       "       273.  , 272.82, 272.92, 272.91, 272.98, 272.98, 272.9 , 272.92,\n",
       "       272.77, 272.91, 272.83, 273.29, 273.22, 272.99, 272.79, 273.  ,\n",
       "       272.79, 272.92, 272.67, 272.74, 272.82, 272.74, 272.99, 272.93,\n",
       "       272.74, 272.89, 272.68, 272.8 , 272.79, 272.9 , 272.93, 272.98,\n",
       "       272.88, 272.9 , 272.91, 272.89, 272.83, 272.64, 272.57, 272.84,\n",
       "       272.87, 272.71, 272.67, 272.58, 272.71, 272.59, 272.64, 272.66,\n",
       "       272.79, 272.95, 272.69, 272.82, 272.73, 272.74, 272.71, 272.88,\n",
       "       272.71, 272.69, 272.7 , 272.78, 272.78, 272.83, 272.81, 272.63,\n",
       "       272.92, 272.99, 272.79, 272.77, 272.91, 272.89, 272.96, 272.98,\n",
       "       272.98, 273.04, 273.1 , 273.21, 273.02, 273.09, 273.16, 273.11,\n",
       "       272.9 , 273.  , 272.97, 272.93, 272.94, 273.04, 273.06, 273.  ,\n",
       "       272.92, 272.91, 272.9 , 273.07, 273.12, 273.09, 273.01, 273.07,\n",
       "       273.03, 273.08, 272.97, 272.93, 273.13, 273.02, 272.91, 273.03,\n",
       "       273.05, 272.97, 273.07, 273.15, 273.01, 273.02, 273.  , 273.22,\n",
       "       273.08, 273.12, 273.31, 273.32, 273.18, 273.23, 273.17, 273.04,\n",
       "       273.17, 273.48, 273.36, 273.3 , 273.41, 273.48, 273.14, 273.26,\n",
       "       273.32, 273.49, 273.37, 273.42, 273.7 , 273.38, 273.4 , 273.62,\n",
       "       273.64, 273.57, 273.36, 273.64, 273.56, 273.59, 273.59, 273.74,\n",
       "       273.67, 273.7 , 273.63, 273.62, 273.65, 273.79, 273.87, 273.85,\n",
       "       273.84, 273.92, 273.91, 273.9 , 273.9 , 274.18, 274.21])"
      ]
     },
     "execution_count": 16,
     "metadata": {},
     "output_type": "execute_result"
    }
   ],
   "source": [
    "time_series[:,1] = time_series[:,1] + 273\n",
    "time_series[:,1]"
   ]
  },
  {
   "cell_type": "markdown",
   "id": "413a000e-f831-4001-a624-e996551052d6",
   "metadata": {},
   "source": [
    "Plot:"
   ]
  },
  {
   "cell_type": "code",
   "execution_count": 17,
   "id": "b1c42b82-fb8d-4c16-a791-62f15f384e80",
   "metadata": {},
   "outputs": [],
   "source": [
    "import matplotlib.pyplot as plt"
   ]
  },
  {
   "cell_type": "code",
   "execution_count": 18,
   "id": "b70a15a5-6eb8-4d29-a213-b64429d0c00a",
   "metadata": {},
   "outputs": [
    {
     "data": {
      "image/png": "[encoded data removed]",
      "text/plain": [
       "<Figure size 640x480 with 1 Axes>"
      ]
     },
     "metadata": {},
     "output_type": "display_data"
    }
   ],
   "source": [
    "plt.figure()\n",
    "plt.plot(time_series[:, 0], time_series[:, 1])  # Plot Year vs. Anomaly\n",
    "plt.xlabel('Year')\n",
    "plt.ylabel('Anomaly (°C)')\n",
    "plt.show()"
   ]
  },
  {
   "cell_type": "markdown",
   "id": "4c110995-5beb-4325-a73d-07126cd192f9",
   "metadata": {},
   "source": [
    "## 2.2 Pandas"
   ]
  },
  {
   "cell_type": "code",
   "execution_count": 19,
   "id": "7f20a8e6-72eb-42f9-a609-facdbea9bb11",
   "metadata": {},
   "outputs": [],
   "source": [
    "import pandas as pd"
   ]
  },
  {
   "cell_type": "markdown",
   "id": "98173cdc-54ba-44ff-bec9-e614d995fe6f",
   "metadata": {},
   "source": [
    "(Re)Import data in DataFrame:"
   ]
  },
  {
   "cell_type": "code",
   "execution_count": 20,
   "id": "3aaec591-eb47-4adc-b81d-6b81fa6d7bd2",
   "metadata": {},
   "outputs": [],
   "source": [
    "path = '../Datasets/NOAA_time_series.csv' # Relative path to dataset file\n",
    "time_series = pd.read_csv(path, skiprows=4, delimiter=',')"
   ]
  },
  {
   "cell_type": "markdown",
   "id": "85b900b6-d8ec-4094-af8d-a9de290b5201",
   "metadata": {},
   "source": [
    "Investigate DataFrame structure:"
   ]
  },
  {
   "cell_type": "code",
   "execution_count": 21,
   "id": "dff2c8a8-ae6c-40c1-bc6f-f3b2e5da824d",
   "metadata": {},
   "outputs": [
    {
     "name": "stdout",
     "output_type": "stream",
     "text": [
      "   Year  Anomaly\n",
      "0  1850    -0.03\n",
      "1  1851     0.07\n",
      "2  1852     0.08\n",
      "3  1853     0.13\n",
      "4  1854     0.00\n"
     ]
    }
   ],
   "source": [
    "print(time_series.head())"
   ]
  },
  {
   "cell_type": "code",
   "execution_count": 22,
   "id": "c93b0632-39bb-42a8-8f51-42198254aeb5",
   "metadata": {},
   "outputs": [
    {
     "name": "stdout",
     "output_type": "stream",
     "text": [
      "RangeIndex(start=0, stop=175, step=1)\n"
     ]
    }
   ],
   "source": [
    "print(time_series.index)"
   ]
  },
  {
   "cell_type": "code",
   "execution_count": 23,
   "id": "2eba1924-7180-49ae-aeef-fe031c6b6b54",
   "metadata": {},
   "outputs": [
    {
     "name": "stdout",
     "output_type": "stream",
     "text": [
      "Index(['Year', 'Anomaly'], dtype='object')\n"
     ]
    }
   ],
   "source": [
    "print(time_series.columns)"
   ]
  },
  {
   "cell_type": "code",
   "execution_count": 24,
   "id": "177bfcae-417d-41b1-bda1-0a414cfc7d2f",
   "metadata": {},
   "outputs": [
    {
     "name": "stdout",
     "output_type": "stream",
     "text": [
      "Year         int64\n",
      "Anomaly    float64\n",
      "dtype: object\n"
     ]
    }
   ],
   "source": [
    "print(time_series.dtypes)"
   ]
  },
  {
   "cell_type": "markdown",
   "id": "b3eb11ed-12ab-40b3-85f7-dd44d674bc87",
   "metadata": {},
   "source": [
    "Data selection:"
   ]
  },
  {
   "cell_type": "code",
   "execution_count": 25,
   "id": "d126f7f3-9871-42f0-942b-cf5f4988491a",
   "metadata": {},
   "outputs": [
    {
     "name": "stdout",
     "output_type": "stream",
     "text": [
      "   Year  Anomaly\n",
      "0  1850    -0.03\n",
      "1  1851     0.07\n",
      "2  1852     0.08\n",
      "3  1853     0.13\n",
      "4  1854     0.00\n"
     ]
    }
   ],
   "source": [
    "print(time_series.loc[0:4,:])"
   ]
  },
  {
   "cell_type": "code",
   "execution_count": 26,
   "id": "5aecab58-a26e-4f72-8284-54e4f6d56ed4",
   "metadata": {
    "scrolled": true
   },
   "outputs": [
    {
     "name": "stdout",
     "output_type": "stream",
     "text": [
      "     Year  Anomaly\n",
      "144  1994     0.32\n",
      "145  1995     0.49\n",
      "146  1996     0.37\n",
      "147  1997     0.42\n",
      "148  1998     0.70\n",
      "149  1999     0.38\n",
      "150  2000     0.40\n",
      "151  2001     0.62\n",
      "152  2002     0.64\n",
      "153  2003     0.57\n",
      "154  2004     0.36\n",
      "155  2005     0.64\n",
      "156  2006     0.56\n",
      "157  2007     0.59\n",
      "158  2008     0.59\n",
      "159  2009     0.74\n",
      "160  2010     0.67\n",
      "161  2011     0.70\n",
      "162  2012     0.63\n",
      "163  2013     0.62\n",
      "164  2014     0.65\n",
      "165  2015     0.79\n",
      "166  2016     0.87\n",
      "167  2017     0.85\n",
      "168  2018     0.84\n",
      "169  2019     0.92\n",
      "170  2020     0.91\n",
      "171  2021     0.90\n",
      "172  2022     0.90\n",
      "173  2023     1.18\n",
      "174  2024     1.21\n"
     ]
    }
   ],
   "source": [
    "time_series_selection = time_series.loc[time_series['Year'] >= 1994,:]\n",
    "print(time_series_selection)"
   ]
  },
  {
   "cell_type": "markdown",
   "id": "8c64d190-6075-4751-ae03-2160bde8a3db",
   "metadata": {},
   "source": [
    "Reset index:"
   ]
  },
  {
   "cell_type": "code",
   "execution_count": 27,
   "id": "28cec290-3b3f-4733-afd2-9c01bb4f0ef7",
   "metadata": {},
   "outputs": [
    {
     "name": "stdout",
     "output_type": "stream",
     "text": [
      "    Year  Anomaly\n",
      "0   1994     0.32\n",
      "1   1995     0.49\n",
      "2   1996     0.37\n",
      "3   1997     0.42\n",
      "4   1998     0.70\n",
      "5   1999     0.38\n",
      "6   2000     0.40\n",
      "7   2001     0.62\n",
      "8   2002     0.64\n",
      "9   2003     0.57\n",
      "10  2004     0.36\n",
      "11  2005     0.64\n",
      "12  2006     0.56\n",
      "13  2007     0.59\n",
      "14  2008     0.59\n",
      "15  2009     0.74\n",
      "16  2010     0.67\n",
      "17  2011     0.70\n",
      "18  2012     0.63\n",
      "19  2013     0.62\n",
      "20  2014     0.65\n",
      "21  2015     0.79\n",
      "22  2016     0.87\n",
      "23  2017     0.85\n",
      "24  2018     0.84\n",
      "25  2019     0.92\n",
      "26  2020     0.91\n",
      "27  2021     0.90\n",
      "28  2022     0.90\n",
      "29  2023     1.18\n",
      "30  2024     1.21\n"
     ]
    }
   ],
   "source": [
    "time_series_selection.reset_index(drop=True, inplace=True)\n",
    "print(time_series_selection)"
   ]
  },
  {
   "cell_type": "markdown",
   "id": "7c07f225-64be-4c16-9be1-e67944541b4e",
   "metadata": {},
   "source": [
    "Mathematical operations:"
   ]
  },
  {
   "cell_type": "code",
   "execution_count": 28,
   "id": "1b37ad33-197f-4c04-bc66-45f0ae5c8ba6",
   "metadata": {},
   "outputs": [
    {
     "name": "stdout",
     "output_type": "stream",
     "text": [
      "              Year     Anomaly\n",
      "count   175.000000  175.000000\n",
      "mean   1937.000000    0.073200\n",
      "std      50.662281    0.339958\n",
      "min    1850.000000   -0.430000\n",
      "25%    1893.500000   -0.155000\n",
      "50%    1937.000000   -0.020000\n",
      "75%    1980.500000    0.195000\n",
      "max    2024.000000    1.210000\n"
     ]
    }
   ],
   "source": [
    "print(time_series.describe())"
   ]
  },
  {
   "cell_type": "code",
   "execution_count": 29,
   "id": "1e8c87c1-7044-4abd-9096-7c40c7a38c0c",
   "metadata": {},
   "outputs": [
    {
     "name": "stdout",
     "output_type": "stream",
     "text": [
      "   Year  Anomaly\n",
      "0  1850   273.12\n",
      "1  1851   273.22\n",
      "2  1852   273.23\n",
      "3  1853   273.28\n",
      "4  1854   273.15\n"
     ]
    }
   ],
   "source": [
    "time_series['Anomaly'] = time_series['Anomaly'] + 273.15 # convert temperature unit °C to Kelvin\n",
    "print(time_series.head())"
   ]
  },
  {
   "cell_type": "markdown",
   "id": "9d00cf6e-3c1d-4f9f-9bf2-c2f994e8957e",
   "metadata": {},
   "source": [
    "## 3. Pandas - Iris dataset\n",
    "![Iris](../Images/Iris.png)\n",
    "\n",
    "*Image modified from Steve Dorand, Pixabay*\n",
    "\n",
    "**Original dataset:** https://www.kaggle.com/datasets/uciml/iris/data"
   ]
  },
  {
   "cell_type": "code",
   "execution_count": 30,
   "id": "d2316f23",
   "metadata": {},
   "outputs": [],
   "source": [
    "import pandas as pd"
   ]
  },
  {
   "cell_type": "markdown",
   "id": "d2b1e336",
   "metadata": {},
   "source": [
    "Import data in DataFrame:"
   ]
  },
  {
   "cell_type": "code",
   "execution_count": 31,
   "id": "9e16e723",
   "metadata": {},
   "outputs": [],
   "source": [
    "path = '../Datasets/Iris.csv' # relative path to dataset file\n",
    "iris = pd.read_csv(path)"
   ]
  },
  {
   "cell_type": "markdown",
   "id": "20196618",
   "metadata": {},
   "source": [
    "Investigate DataFrame structure and data:"
   ]
  },
  {
   "cell_type": "code",
   "execution_count": 32,
   "id": "87711360",
   "metadata": {},
   "outputs": [
    {
     "name": "stdout",
     "output_type": "stream",
     "text": [
      "   Id  SepalLengthCm  SepalWidthCm  PetalLengthCm  PetalWidthCm      Species\n",
      "0   1            5.1           3.5            1.4           0.2  Iris-setosa\n",
      "1   2            4.9           3.0            1.4           0.2  Iris-setosa\n",
      "2   3            4.7           3.2            1.3           0.2  Iris-setosa\n",
      "3   4            4.6           3.1            1.5           0.2  Iris-setosa\n",
      "4   5            5.0           3.6            1.4           0.2  Iris-setosa\n",
      "RangeIndex(start=0, stop=150, step=1)\n",
      "Index(['Id', 'SepalLengthCm', 'SepalWidthCm', 'PetalLengthCm', 'PetalWidthCm',\n",
      "       'Species'],\n",
      "      dtype='object')\n",
      "Id                 int64\n",
      "SepalLengthCm    float64\n",
      "SepalWidthCm     float64\n",
      "PetalLengthCm    float64\n",
      "PetalWidthCm     float64\n",
      "Species           object\n",
      "dtype: object\n",
      "               Id  SepalLengthCm  SepalWidthCm  PetalLengthCm  PetalWidthCm\n",
      "count  150.000000     150.000000    150.000000     150.000000    150.000000\n",
      "mean    75.500000       5.843333      3.054000       3.758667      1.198667\n",
      "std     43.445368       0.828066      0.433594       1.764420      0.763161\n",
      "min      1.000000       4.300000      2.000000       1.000000      0.100000\n",
      "25%     38.250000       5.100000      2.800000       1.600000      0.300000\n",
      "50%     75.500000       5.800000      3.000000       4.350000      1.300000\n",
      "75%    112.750000       6.400000      3.300000       5.100000      1.800000\n",
      "max    150.000000       7.900000      4.400000       6.900000      2.500000\n"
     ]
    }
   ],
   "source": [
    "print(iris.head())\n",
    "print(iris.index)\n",
    "print(iris.columns)\n",
    "print(iris.dtypes)\n",
    "print(iris.describe())"
   ]
  },
  {
   "cell_type": "markdown",
   "id": "e20617db",
   "metadata": {},
   "source": [
    "Data selection:"
   ]
  },
  {
   "cell_type": "code",
   "execution_count": 33,
   "id": "6ea2f98e",
   "metadata": {},
   "outputs": [
    {
     "name": "stdout",
     "output_type": "stream",
     "text": [
      "   Id  SepalLengthCm  SepalWidthCm  PetalLengthCm  PetalWidthCm      Species\n",
      "0   1            5.1           3.5            1.4           0.2  Iris-setosa\n",
      "1   2            4.9           3.0            1.4           0.2  Iris-setosa\n",
      "2   3            4.7           3.2            1.3           0.2  Iris-setosa\n",
      "3   4            4.6           3.1            1.5           0.2  Iris-setosa\n",
      "4   5            5.0           3.6            1.4           0.2  Iris-setosa\n"
     ]
    }
   ],
   "source": [
    "print(iris.loc[0:4,:])"
   ]
  },
  {
   "cell_type": "code",
   "execution_count": 34,
   "id": "2757eb19",
   "metadata": {
    "scrolled": true
   },
   "outputs": [
    {
     "name": "stdout",
     "output_type": "stream",
     "text": [
      "     Id  SepalLengthCm  SepalWidthCm  PetalLengthCm  PetalWidthCm  \\\n",
      "50   51            7.0           3.2            4.7           1.4   \n",
      "51   52            6.4           3.2            4.5           1.5   \n",
      "52   53            6.9           3.1            4.9           1.5   \n",
      "53   54            5.5           2.3            4.0           1.3   \n",
      "54   55            6.5           2.8            4.6           1.5   \n",
      "55   56            5.7           2.8            4.5           1.3   \n",
      "56   57            6.3           3.3            4.7           1.6   \n",
      "57   58            4.9           2.4            3.3           1.0   \n",
      "58   59            6.6           2.9            4.6           1.3   \n",
      "59   60            5.2           2.7            3.9           1.4   \n",
      "60   61            5.0           2.0            3.5           1.0   \n",
      "61   62            5.9           3.0            4.2           1.5   \n",
      "62   63            6.0           2.2            4.0           1.0   \n",
      "63   64            6.1           2.9            4.7           1.4   \n",
      "64   65            5.6           2.9            3.6           1.3   \n",
      "65   66            6.7           3.1            4.4           1.4   \n",
      "66   67            5.6           3.0            4.5           1.5   \n",
      "67   68            5.8           2.7            4.1           1.0   \n",
      "68   69            6.2           2.2            4.5           1.5   \n",
      "69   70            5.6           2.5            3.9           1.1   \n",
      "70   71            5.9           3.2            4.8           1.8   \n",
      "71   72            6.1           2.8            4.0           1.3   \n",
      "72   73            6.3           2.5            4.9           1.5   \n",
      "73   74            6.1           2.8            4.7           1.2   \n",
      "74   75            6.4           2.9            4.3           1.3   \n",
      "75   76            6.6           3.0            4.4           1.4   \n",
      "76   77            6.8           2.8            4.8           1.4   \n",
      "77   78            6.7           3.0            5.0           1.7   \n",
      "78   79            6.0           2.9            4.5           1.5   \n",
      "79   80            5.7           2.6            3.5           1.0   \n",
      "80   81            5.5           2.4            3.8           1.1   \n",
      "81   82            5.5           2.4            3.7           1.0   \n",
      "82   83            5.8           2.7            3.9           1.2   \n",
      "83   84            6.0           2.7            5.1           1.6   \n",
      "84   85            5.4           3.0            4.5           1.5   \n",
      "85   86            6.0           3.4            4.5           1.6   \n",
      "86   87            6.7           3.1            4.7           1.5   \n",
      "87   88            6.3           2.3            4.4           1.3   \n",
      "88   89            5.6           3.0            4.1           1.3   \n",
      "89   90            5.5           2.5            4.0           1.3   \n",
      "90   91            5.5           2.6            4.4           1.2   \n",
      "91   92            6.1           3.0            4.6           1.4   \n",
      "92   93            5.8           2.6            4.0           1.2   \n",
      "93   94            5.0           2.3            3.3           1.0   \n",
      "94   95            5.6           2.7            4.2           1.3   \n",
      "95   96            5.7           3.0            4.2           1.2   \n",
      "96   97            5.7           2.9            4.2           1.3   \n",
      "97   98            6.2           2.9            4.3           1.3   \n",
      "98   99            5.1           2.5            3.0           1.1   \n",
      "99  100            5.7           2.8            4.1           1.3   \n",
      "\n",
      "            Species  \n",
      "50  Iris-versicolor  \n",
      "51  Iris-versicolor  \n",
      "52  Iris-versicolor  \n",
      "53  Iris-versicolor  \n",
      "54  Iris-versicolor  \n",
      "55  Iris-versicolor  \n",
      "56  Iris-versicolor  \n",
      "57  Iris-versicolor  \n",
      "58  Iris-versicolor  \n",
      "59  Iris-versicolor  \n",
      "60  Iris-versicolor  \n",
      "61  Iris-versicolor  \n",
      "62  Iris-versicolor  \n",
      "63  Iris-versicolor  \n",
      "64  Iris-versicolor  \n",
      "65  Iris-versicolor  \n",
      "66  Iris-versicolor  \n",
      "67  Iris-versicolor  \n",
      "68  Iris-versicolor  \n",
      "69  Iris-versicolor  \n",
      "70  Iris-versicolor  \n",
      "71  Iris-versicolor  \n",
      "72  Iris-versicolor  \n",
      "73  Iris-versicolor  \n",
      "74  Iris-versicolor  \n",
      "75  Iris-versicolor  \n",
      "76  Iris-versicolor  \n",
      "77  Iris-versicolor  \n",
      "78  Iris-versicolor  \n",
      "79  Iris-versicolor  \n",
      "80  Iris-versicolor  \n",
      "81  Iris-versicolor  \n",
      "82  Iris-versicolor  \n",
      "83  Iris-versicolor  \n",
      "84  Iris-versicolor  \n",
      "85  Iris-versicolor  \n",
      "86  Iris-versicolor  \n",
      "87  Iris-versicolor  \n",
      "88  Iris-versicolor  \n",
      "89  Iris-versicolor  \n",
      "90  Iris-versicolor  \n",
      "91  Iris-versicolor  \n",
      "92  Iris-versicolor  \n",
      "93  Iris-versicolor  \n",
      "94  Iris-versicolor  \n",
      "95  Iris-versicolor  \n",
      "96  Iris-versicolor  \n",
      "97  Iris-versicolor  \n",
      "98  Iris-versicolor  \n",
      "99  Iris-versicolor  \n"
     ]
    }
   ],
   "source": [
    "print(iris.loc[iris['Species'] == 'Iris-versicolor'])"
   ]
  },
  {
   "cell_type": "markdown",
   "id": "3b3f3c4a",
   "metadata": {},
   "source": [
    "Data in Pandas DataFrame vs. NumPy array:"
   ]
  },
  {
   "cell_type": "code",
   "execution_count": 35,
   "id": "7475e8f8",
   "metadata": {
    "scrolled": true
   },
   "outputs": [
    {
     "name": "stdout",
     "output_type": "stream",
     "text": [
      "[[1 5.1 3.5 1.4 0.2 'Iris-setosa']\n",
      " [2 4.9 3.0 1.4 0.2 'Iris-setosa']\n",
      " [3 4.7 3.2 1.3 0.2 'Iris-setosa']\n",
      " [4 4.6 3.1 1.5 0.2 'Iris-setosa']\n",
      " [5 5.0 3.6 1.4 0.2 'Iris-setosa']\n",
      " [6 5.4 3.9 1.7 0.4 'Iris-setosa']\n",
      " [7 4.6 3.4 1.4 0.3 'Iris-setosa']\n",
      " [8 5.0 3.4 1.5 0.2 'Iris-setosa']\n",
      " [9 4.4 2.9 1.4 0.2 'Iris-setosa']\n",
      " [10 4.9 3.1 1.5 0.1 'Iris-setosa']\n",
      " [11 5.4 3.7 1.5 0.2 'Iris-setosa']\n",
      " [12 4.8 3.4 1.6 0.2 'Iris-setosa']\n",
      " [13 4.8 3.0 1.4 0.1 'Iris-setosa']\n",
      " [14 4.3 3.0 1.1 0.1 'Iris-setosa']\n",
      " [15 5.8 4.0 1.2 0.2 'Iris-setosa']\n",
      " [16 5.7 4.4 1.5 0.4 'Iris-setosa']\n",
      " [17 5.4 3.9 1.3 0.4 'Iris-setosa']\n",
      " [18 5.1 3.5 1.4 0.3 'Iris-setosa']\n",
      " [19 5.7 3.8 1.7 0.3 'Iris-setosa']\n",
      " [20 5.1 3.8 1.5 0.3 'Iris-setosa']\n",
      " [21 5.4 3.4 1.7 0.2 'Iris-setosa']\n",
      " [22 5.1 3.7 1.5 0.4 'Iris-setosa']\n",
      " [23 4.6 3.6 1.0 0.2 'Iris-setosa']\n",
      " [24 5.1 3.3 1.7 0.5 'Iris-setosa']\n",
      " [25 4.8 3.4 1.9 0.2 'Iris-setosa']\n",
      " [26 5.0 3.0 1.6 0.2 'Iris-setosa']\n",
      " [27 5.0 3.4 1.6 0.4 'Iris-setosa']\n",
      " [28 5.2 3.5 1.5 0.2 'Iris-setosa']\n",
      " [29 5.2 3.4 1.4 0.2 'Iris-setosa']\n",
      " [30 4.7 3.2 1.6 0.2 'Iris-setosa']\n",
      " [31 4.8 3.1 1.6 0.2 'Iris-setosa']\n",
      " [32 5.4 3.4 1.5 0.4 'Iris-setosa']\n",
      " [33 5.2 4.1 1.5 0.1 'Iris-setosa']\n",
      " [34 5.5 4.2 1.4 0.2 'Iris-setosa']\n",
      " [35 4.9 3.1 1.5 0.1 'Iris-setosa']\n",
      " [36 5.0 3.2 1.2 0.2 'Iris-setosa']\n",
      " [37 5.5 3.5 1.3 0.2 'Iris-setosa']\n",
      " [38 4.9 3.1 1.5 0.1 'Iris-setosa']\n",
      " [39 4.4 3.0 1.3 0.2 'Iris-setosa']\n",
      " [40 5.1 3.4 1.5 0.2 'Iris-setosa']\n",
      " [41 5.0 3.5 1.3 0.3 'Iris-setosa']\n",
      " [42 4.5 2.3 1.3 0.3 'Iris-setosa']\n",
      " [43 4.4 3.2 1.3 0.2 'Iris-setosa']\n",
      " [44 5.0 3.5 1.6 0.6 'Iris-setosa']\n",
      " [45 5.1 3.8 1.9 0.4 'Iris-setosa']\n",
      " [46 4.8 3.0 1.4 0.3 'Iris-setosa']\n",
      " [47 5.1 3.8 1.6 0.2 'Iris-setosa']\n",
      " [48 4.6 3.2 1.4 0.2 'Iris-setosa']\n",
      " [49 5.3 3.7 1.5 0.2 'Iris-setosa']\n",
      " [50 5.0 3.3 1.4 0.2 'Iris-setosa']\n",
      " [51 7.0 3.2 4.7 1.4 'Iris-versicolor']\n",
      " [52 6.4 3.2 4.5 1.5 'Iris-versicolor']\n",
      " [53 6.9 3.1 4.9 1.5 'Iris-versicolor']\n",
      " [54 5.5 2.3 4.0 1.3 'Iris-versicolor']\n",
      " [55 6.5 2.8 4.6 1.5 'Iris-versicolor']\n",
      " [56 5.7 2.8 4.5 1.3 'Iris-versicolor']\n",
      " [57 6.3 3.3 4.7 1.6 'Iris-versicolor']\n",
      " [58 4.9 2.4 3.3 1.0 'Iris-versicolor']\n",
      " [59 6.6 2.9 4.6 1.3 'Iris-versicolor']\n",
      " [60 5.2 2.7 3.9 1.4 'Iris-versicolor']\n",
      " [61 5.0 2.0 3.5 1.0 'Iris-versicolor']\n",
      " [62 5.9 3.0 4.2 1.5 'Iris-versicolor']\n",
      " [63 6.0 2.2 4.0 1.0 'Iris-versicolor']\n",
      " [64 6.1 2.9 4.7 1.4 'Iris-versicolor']\n",
      " [65 5.6 2.9 3.6 1.3 'Iris-versicolor']\n",
      " [66 6.7 3.1 4.4 1.4 'Iris-versicolor']\n",
      " [67 5.6 3.0 4.5 1.5 'Iris-versicolor']\n",
      " [68 5.8 2.7 4.1 1.0 'Iris-versicolor']\n",
      " [69 6.2 2.2 4.5 1.5 'Iris-versicolor']\n",
      " [70 5.6 2.5 3.9 1.1 'Iris-versicolor']\n",
      " [71 5.9 3.2 4.8 1.8 'Iris-versicolor']\n",
      " [72 6.1 2.8 4.0 1.3 'Iris-versicolor']\n",
      " [73 6.3 2.5 4.9 1.5 'Iris-versicolor']\n",
      " [74 6.1 2.8 4.7 1.2 'Iris-versicolor']\n",
      " [75 6.4 2.9 4.3 1.3 'Iris-versicolor']\n",
      " [76 6.6 3.0 4.4 1.4 'Iris-versicolor']\n",
      " [77 6.8 2.8 4.8 1.4 'Iris-versicolor']\n",
      " [78 6.7 3.0 5.0 1.7 'Iris-versicolor']\n",
      " [79 6.0 2.9 4.5 1.5 'Iris-versicolor']\n",
      " [80 5.7 2.6 3.5 1.0 'Iris-versicolor']\n",
      " [81 5.5 2.4 3.8 1.1 'Iris-versicolor']\n",
      " [82 5.5 2.4 3.7 1.0 'Iris-versicolor']\n",
      " [83 5.8 2.7 3.9 1.2 'Iris-versicolor']\n",
      " [84 6.0 2.7 5.1 1.6 'Iris-versicolor']\n",
      " [85 5.4 3.0 4.5 1.5 'Iris-versicolor']\n",
      " [86 6.0 3.4 4.5 1.6 'Iris-versicolor']\n",
      " [87 6.7 3.1 4.7 1.5 'Iris-versicolor']\n",
      " [88 6.3 2.3 4.4 1.3 'Iris-versicolor']\n",
      " [89 5.6 3.0 4.1 1.3 'Iris-versicolor']\n",
      " [90 5.5 2.5 4.0 1.3 'Iris-versicolor']\n",
      " [91 5.5 2.6 4.4 1.2 'Iris-versicolor']\n",
      " [92 6.1 3.0 4.6 1.4 'Iris-versicolor']\n",
      " [93 5.8 2.6 4.0 1.2 'Iris-versicolor']\n",
      " [94 5.0 2.3 3.3 1.0 'Iris-versicolor']\n",
      " [95 5.6 2.7 4.2 1.3 'Iris-versicolor']\n",
      " [96 5.7 3.0 4.2 1.2 'Iris-versicolor']\n",
      " [97 5.7 2.9 4.2 1.3 'Iris-versicolor']\n",
      " [98 6.2 2.9 4.3 1.3 'Iris-versicolor']\n",
      " [99 5.1 2.5 3.0 1.1 'Iris-versicolor']\n",
      " [100 5.7 2.8 4.1 1.3 'Iris-versicolor']\n",
      " [101 6.3 3.3 6.0 2.5 'Iris-virginica']\n",
      " [102 5.8 2.7 5.1 1.9 'Iris-virginica']\n",
      " [103 7.1 3.0 5.9 2.1 'Iris-virginica']\n",
      " [104 6.3 2.9 5.6 1.8 'Iris-virginica']\n",
      " [105 6.5 3.0 5.8 2.2 'Iris-virginica']\n",
      " [106 7.6 3.0 6.6 2.1 'Iris-virginica']\n",
      " [107 4.9 2.5 4.5 1.7 'Iris-virginica']\n",
      " [108 7.3 2.9 6.3 1.8 'Iris-virginica']\n",
      " [109 6.7 2.5 5.8 1.8 'Iris-virginica']\n",
      " [110 7.2 3.6 6.1 2.5 'Iris-virginica']\n",
      " [111 6.5 3.2 5.1 2.0 'Iris-virginica']\n",
      " [112 6.4 2.7 5.3 1.9 'Iris-virginica']\n",
      " [113 6.8 3.0 5.5 2.1 'Iris-virginica']\n",
      " [114 5.7 2.5 5.0 2.0 'Iris-virginica']\n",
      " [115 5.8 2.8 5.1 2.4 'Iris-virginica']\n",
      " [116 6.4 3.2 5.3 2.3 'Iris-virginica']\n",
      " [117 6.5 3.0 5.5 1.8 'Iris-virginica']\n",
      " [118 7.7 3.8 6.7 2.2 'Iris-virginica']\n",
      " [119 7.7 2.6 6.9 2.3 'Iris-virginica']\n",
      " [120 6.0 2.2 5.0 1.5 'Iris-virginica']\n",
      " [121 6.9 3.2 5.7 2.3 'Iris-virginica']\n",
      " [122 5.6 2.8 4.9 2.0 'Iris-virginica']\n",
      " [123 7.7 2.8 6.7 2.0 'Iris-virginica']\n",
      " [124 6.3 2.7 4.9 1.8 'Iris-virginica']\n",
      " [125 6.7 3.3 5.7 2.1 'Iris-virginica']\n",
      " [126 7.2 3.2 6.0 1.8 'Iris-virginica']\n",
      " [127 6.2 2.8 4.8 1.8 'Iris-virginica']\n",
      " [128 6.1 3.0 4.9 1.8 'Iris-virginica']\n",
      " [129 6.4 2.8 5.6 2.1 'Iris-virginica']\n",
      " [130 7.2 3.0 5.8 1.6 'Iris-virginica']\n",
      " [131 7.4 2.8 6.1 1.9 'Iris-virginica']\n",
      " [132 7.9 3.8 6.4 2.0 'Iris-virginica']\n",
      " [133 6.4 2.8 5.6 2.2 'Iris-virginica']\n",
      " [134 6.3 2.8 5.1 1.5 'Iris-virginica']\n",
      " [135 6.1 2.6 5.6 1.4 'Iris-virginica']\n",
      " [136 7.7 3.0 6.1 2.3 'Iris-virginica']\n",
      " [137 6.3 3.4 5.6 2.4 'Iris-virginica']\n",
      " [138 6.4 3.1 5.5 1.8 'Iris-virginica']\n",
      " [139 6.0 3.0 4.8 1.8 'Iris-virginica']\n",
      " [140 6.9 3.1 5.4 2.1 'Iris-virginica']\n",
      " [141 6.7 3.1 5.6 2.4 'Iris-virginica']\n",
      " [142 6.9 3.1 5.1 2.3 'Iris-virginica']\n",
      " [143 5.8 2.7 5.1 1.9 'Iris-virginica']\n",
      " [144 6.8 3.2 5.9 2.3 'Iris-virginica']\n",
      " [145 6.7 3.3 5.7 2.5 'Iris-virginica']\n",
      " [146 6.7 3.0 5.2 2.3 'Iris-virginica']\n",
      " [147 6.3 2.5 5.0 1.9 'Iris-virginica']\n",
      " [148 6.5 3.0 5.2 2.0 'Iris-virginica']\n",
      " [149 6.2 3.4 5.4 2.3 'Iris-virginica']\n",
      " [150 5.9 3.0 5.1 1.8 'Iris-virginica']]\n"
     ]
    }
   ],
   "source": [
    "array = iris.values\n",
    "print(array)"
   ]
  },
  {
   "cell_type": "markdown",
   "id": "ecd48a44",
   "metadata": {},
   "source": [
    "Sort & reset index:"
   ]
  },
  {
   "cell_type": "code",
   "execution_count": 36,
   "id": "11fa096a",
   "metadata": {},
   "outputs": [
    {
     "name": "stdout",
     "output_type": "stream",
     "text": [
      "      Id  SepalLengthCm  SepalWidthCm  PetalLengthCm  PetalWidthCm  \\\n",
      "118  119            7.7           2.6            6.9           2.3   \n",
      "117  118            7.7           3.8            6.7           2.2   \n",
      "122  123            7.7           2.8            6.7           2.0   \n",
      "105  106            7.6           3.0            6.6           2.1   \n",
      "131  132            7.9           3.8            6.4           2.0   \n",
      "\n",
      "            Species  \n",
      "118  Iris-virginica  \n",
      "117  Iris-virginica  \n",
      "122  Iris-virginica  \n",
      "105  Iris-virginica  \n",
      "131  Iris-virginica  \n"
     ]
    }
   ],
   "source": [
    "sorted_iris = iris.sort_values(by='PetalLengthCm', ascending=False)\n",
    "print(sorted_iris.head(5))"
   ]
  },
  {
   "cell_type": "code",
   "execution_count": 37,
   "id": "1a4cea73-47eb-48d3-bb26-b1111e6902e8",
   "metadata": {},
   "outputs": [
    {
     "name": "stdout",
     "output_type": "stream",
     "text": [
      "    Id  SepalLengthCm  SepalWidthCm  PetalLengthCm  PetalWidthCm  \\\n",
      "0  119            7.7           2.6            6.9           2.3   \n",
      "1  118            7.7           3.8            6.7           2.2   \n",
      "2  123            7.7           2.8            6.7           2.0   \n",
      "3  106            7.6           3.0            6.6           2.1   \n",
      "4  132            7.9           3.8            6.4           2.0   \n",
      "\n",
      "          Species  \n",
      "0  Iris-virginica  \n",
      "1  Iris-virginica  \n",
      "2  Iris-virginica  \n",
      "3  Iris-virginica  \n",
      "4  Iris-virginica  \n"
     ]
    }
   ],
   "source": [
    "sorted_iris.reset_index(drop=True, inplace=True)\n",
    "print(sorted_iris.head(5))"
   ]
  },
  {
   "cell_type": "markdown",
   "id": "e5450062",
   "metadata": {},
   "source": [
    "Histogram plot showing the value distribution of petal length:"
   ]
  },
  {
   "cell_type": "code",
   "execution_count": 38,
   "id": "42a3d75c",
   "metadata": {},
   "outputs": [
    {
     "data": {
      "text/plain": [
       "<Axes: ylabel='Frequency'>"
      ]
     },
     "execution_count": 38,
     "metadata": {},
     "output_type": "execute_result"
    },
    {
     "data": {
      "image/png": "[encoded data removed]",
      "text/plain": [
       "<Figure size 640x480 with 1 Axes>"
      ]
     },
     "metadata": {},
     "output_type": "display_data"
    }
   ],
   "source": [
    "iris['PetalLengthCm'].plot.hist()"
   ]
  },
  {
   "cell_type": "markdown",
   "id": "a770297d",
   "metadata": {},
   "source": [
    "**Exercise:** Calculate the area of the Petals via multiplication (no need for precise ellipse area) in a new column and print the first rows of the DataFrame."
   ]
  },
  {
   "cell_type": "code",
   "execution_count": 39,
   "id": "e87bbde3",
   "metadata": {},
   "outputs": [
    {
     "name": "stdout",
     "output_type": "stream",
     "text": [
      "    Id  SepalLengthCm  SepalWidthCm  PetalLengthCm  PetalWidthCm  \\\n",
      "0  119            7.7           2.6            6.9           2.3   \n",
      "1  118            7.7           3.8            6.7           2.2   \n",
      "2  123            7.7           2.8            6.7           2.0   \n",
      "3  106            7.6           3.0            6.6           2.1   \n",
      "4  132            7.9           3.8            6.4           2.0   \n",
      "\n",
      "          Species  \n",
      "0  Iris-virginica  \n",
      "1  Iris-virginica  \n",
      "2  Iris-virginica  \n",
      "3  Iris-virginica  \n",
      "4  Iris-virginica  \n"
     ]
    }
   ],
   "source": [
    "iris['PetalAreaCm2'] = iris['PetalLengthCm'] * iris['PetalWidthCm'] \n",
    "print(sorted_iris.head(5))"
   ]
  }
 ],
 "metadata": {
  "kernelspec": {
   "display_name": "Python 3 (ipykernel)",
   "language": "python",
   "name": "python3"
  },
  "language_info": {
   "codemirror_mode": {
    "name": "ipython",
    "version": 3
   },
   "file_extension": ".py",
   "mimetype": "text/x-python",
   "name": "python",
   "nbconvert_exporter": "python",
   "pygments_lexer": "ipython3",
   "version": "3.11.10"
  }
 },
 "nbformat": 4,
 "nbformat_minor": 5
}
